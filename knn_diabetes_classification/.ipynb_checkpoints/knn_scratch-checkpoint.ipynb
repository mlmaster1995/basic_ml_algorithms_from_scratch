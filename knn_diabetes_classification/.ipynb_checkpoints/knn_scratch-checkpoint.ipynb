{
 "cells": [
  {
   "cell_type": "markdown",
   "metadata": {},
   "source": [
    "# KNN Classifier\n",
    "\n",
    "## 1. Load the data\n",
    "\n",
    "## 2. Read the data\n",
    "\n",
    "## 3. Split the data\n",
    "\n",
    "## 4. KNN Classification\n",
    "\n",
    "## 5. Test"
   ]
  },
  {
   "cell_type": "code",
   "execution_count": 2,
   "metadata": {},
   "outputs": [],
   "source": [
    "# libs\n",
    "import pandas as pd\n",
    "import numpy as np\n",
    "import math\n",
    "import os\n",
    "\n",
    "\n",
    "# read data\n",
    "data = pd.read_csv('weight-height.csv')\n",
    "\n",
    "\n",
    "# split data into test and model\n",
    "model_test_rate=0.7\n",
    "\n",
    "data_male = data.iloc[0:int(len(data)/2)]\n",
    "data_female = data.iloc[int(len(data)/2):]\n",
    "\n",
    "data_male_model= data_male.iloc[0:int((len(data_male))*model_test_rate),:]\n",
    "data_female_model=data_female.iloc[0:int((len(data_female))*model_test_rate),:]\n",
    "\n",
    "data_male_test= data_male.iloc[int((len(data_male))*model_test_rate):,:]\n",
    "data_female_test=data_female.iloc[int((len(data_female))*model_test_rate):,:]\n",
    "\n",
    "\n",
    "data_model= data_male_model.append(data_female_model)\n",
    "data_test= data_male_test.append(data_female_test)\n",
    "\n",
    "\n",
    "# K-NN algorithm\n",
    "def knn_gender_classifier (data_test,K,data_model):\n",
    "    \n",
    "    # -- classification\n",
    "    # -> get each row of data_input -> calc the distance with each row in the model \n",
    "    # -> make a new list with distance, label and index -> merge all the lists -> sort the list -> select K item\n",
    "    # -> count labels -> generate classification\n",
    "    \n",
    "    classification_result=[];\n",
    "    error=0;\n",
    "    \n",
    "    for da in range(len(data_test)):\n",
    "            weight_test = data_test.iloc[da,2]\n",
    "            height_test = data_test.iloc[da,1]\n",
    "            label_test = data_test.iloc[da,0]\n",
    "            knn_dic={}\n",
    "            male_count=0\n",
    "            female_count=0\n",
    "            class_label=''\n",
    "\n",
    "            for da_m in range(len(data_model)):\n",
    "                weight_model = data_model.iloc[da_m,2]\n",
    "                height_model = data_model.iloc[da_m,1]\n",
    "                label_model = data_model.iloc[da_m,0]\n",
    "\n",
    "                distance= math.sqrt(math.pow((weight_test-weight_model),2)+math.pow(height_test-height_model,2))\n",
    "                knn_dic [distance] = label_model\n",
    "\n",
    "            knn_sorted_list = sorted(knn_dic.keys())\n",
    "\n",
    "            for knn_index in knn_sorted_list:\n",
    "\n",
    "                if knn_dic[knn_index]=='Male':\n",
    "                    male_count+=1\n",
    "                    if male_count==K:\n",
    "                        class_label='Male'\n",
    "                        break\n",
    "                else:\n",
    "                    female_count+=1\n",
    "                    if female_count ==K:\n",
    "                        class_label='Female'\n",
    "                        break\n",
    "\n",
    "            test_row = [height_test, weight_test, label_test, class_label]\n",
    "\n",
    "            classification_result.append(test_row)  \n",
    "            \n",
    "    # -- calculate the error rate\n",
    "    for item in classification_result:  \n",
    "        pos_lst=len(item)-1\n",
    "        pos_lst_2=len(item)-2\n",
    "        if item[pos_lst]!=item[pos_lst_2]:\n",
    "            error+=1; \n",
    "\n",
    "    error_rate = error/len(data_test)\n",
    "        \n",
    "    return (classification_result, error_rate)"
   ]
  },
  {
   "cell_type": "code",
   "execution_count": 7,
   "metadata": {
    "scrolled": true
   },
   "outputs": [],
   "source": [
    "# get the sample data for the test\n",
    "star=0\n",
    "star_end=200\n",
    "data_test_sample = data_test.iloc[star:star_end,:]"
   ]
  },
  {
   "cell_type": "code",
   "execution_count": 8,
   "metadata": {},
   "outputs": [
    {
     "name": "stdout",
     "output_type": "stream",
     "text": [
      "error rate:  5.5 %\n",
      "\n"
     ]
    }
   ],
   "source": [
    "# test the algorithem\n",
    "\n",
    "K=int(math.sqrt(len(data_model)));\n",
    "res = knn_gender_classifier(data_test_sample,K,data_model)\n",
    "print('error rate: ', res[1]*100, '%\\n');"
   ]
  },
  {
   "cell_type": "code",
   "execution_count": null,
   "metadata": {},
   "outputs": [],
   "source": []
  },
  {
   "cell_type": "code",
   "execution_count": null,
   "metadata": {},
   "outputs": [],
   "source": []
  },
  {
   "cell_type": "code",
   "execution_count": null,
   "metadata": {},
   "outputs": [],
   "source": []
  }
 ],
 "metadata": {
  "kernelspec": {
   "display_name": "Python 3",
   "language": "python",
   "name": "python3"
  },
  "language_info": {
   "codemirror_mode": {
    "name": "ipython",
    "version": 3
   },
   "file_extension": ".py",
   "mimetype": "text/x-python",
   "name": "python",
   "nbconvert_exporter": "python",
   "pygments_lexer": "ipython3",
   "version": "3.6.8"
  }
 },
 "nbformat": 4,
 "nbformat_minor": 2
}
