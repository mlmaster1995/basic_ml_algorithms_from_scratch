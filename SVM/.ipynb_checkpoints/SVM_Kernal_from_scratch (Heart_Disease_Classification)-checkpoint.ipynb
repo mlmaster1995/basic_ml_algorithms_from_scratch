{
 "cells": [
  {
   "cell_type": "markdown",
   "metadata": {},
   "source": [
    "# 1. SVM (Gaussian, Polynomial Kernel) from scratch\n",
    "## 1.1 dataset link: https://www.kaggle.com/ronitf/heart-disease-uci/download;\n",
    "## 1.2 SVM Kernel is comparing to the SVM linear in my github. With same dataset, SVM Kernel can classify the data with much better accuracy;\n",
    "## 1.3 Dataset size: 303 * 12, 303 rows of data with 12 features;\n",
    "## 1.4 Columns 'Cho', 'fbs' are dropped due to low correlation with the target; \n",
    "## 1.5 Dataset is split with 80% for training and 20% for testing; \n",
    "## 1.6 Gaussian kernel: Sigma=0.8, C=10e10, score at 70% to 90%; \n",
    "## 1.7 Polynomial kernel: Degree=2, C=10e10, step=0.01, score is similiar to Gaussian kernel, but it costs more time to coverge than gaussian kernel;\n",
    "## 1.7 As the dataset is split randomly so error rate is different every time;\n",
    "## 1.8 Sklearn test for same dataset is used as an reference;"
   ]
  },
  {
   "cell_type": "code",
   "execution_count": 3,
   "metadata": {},
   "outputs": [],
   "source": [
    "import numpy as np\n",
    "import pandas as pd\n",
    "import statistics as st\n",
    "import matplotlib.pyplot as plt\n",
    "import random\n",
    "import math\n",
    "import os"
   ]
  },
  {
   "cell_type": "markdown",
   "metadata": {},
   "source": [
    "# 2. Data processing function"
   ]
  },
  {
   "cell_type": "code",
   "execution_count": 10,
   "metadata": {},
   "outputs": [],
   "source": [
    "## load & split data into train & test set\n",
    "def load_data(name):\n",
    "    path = os.getcwd()\n",
    "    data_path = os.path.join(path, name)\n",
    "    data_raw = pd.read_csv(data_path)\n",
    "    data_index = data_raw.keys()\n",
    "\n",
    "    #print(data_index)\n",
    "    return (data_raw, data_index)\n",
    "\n",
    "\n",
    "## plot histogram of each attribute\n",
    "def plot_hist(data_refine, data_refine_index):\n",
    "    data_zip = list(zip(*data_refine))\n",
    "\n",
    "    for index in range(len(data_zip)):\n",
    "        each_attr = data_zip[index]\n",
    "        low_b = math.floor(min(each_attr))\n",
    "        upp_b = math.ceil(max(each_attr))\n",
    "        plt.hist(each_attr, range=[low_b, upp_b])\n",
    "        plt.title(data_refine_index[index], loc='center')\n",
    "        plt.grid()\n",
    "        plt.show()\n",
    "\n",
    "\n",
    "## split data_test from data_train, split_ration=0.7, 70% data for training, 30% of data for testing\n",
    "def split_train_test_data(data_refine, data_refine_target, split_ratio, rand=True, seed=2):\n",
    "    random.seed(seed)\n",
    "    data_train = []\n",
    "    data_train_target = []\n",
    "    data_test=[]\n",
    "    data_test_target=[]\n",
    "    train_length = int(len(data_refine) * split_ratio)\n",
    "\n",
    "    if rand:\n",
    "        for index in range(train_length):\n",
    "            pos = random.randint(0, len(data_refine) - 1)\n",
    "            data_train.append(data_refine.pop(pos))\n",
    "            data_train_target.append(data_refine_target.pop(pos))\n",
    "\n",
    "        data_test = data_refine\n",
    "        data_test_target = data_refine_target\n",
    "\n",
    "    else:\n",
    "\n",
    "        data_refine_dic={}\n",
    "\n",
    "        for index in range(len(data_refine_target)):\n",
    "            if data_refine_target[index] not in data_refine_dic:\n",
    "                data_refine_dic[data_refine_target[index]]=[]\n",
    "                data_refine_dic[data_refine_target[index]].append(data_refine[index])\n",
    "            else:\n",
    "                data_refine_dic[data_refine_target[index]].append(data_refine[index])\n",
    "\n",
    "        for key in list(data_refine_dic.keys()):\n",
    "\n",
    "            train_length = int(len(data_refine_dic[key]) * split_ratio)\n",
    "\n",
    "            for index in range(train_length-1):\n",
    "                data_train.append(data_refine_dic[key].pop(0))\n",
    "                data_train_target.append(data_refine_target.pop(0))\n",
    "\n",
    "\n",
    "            for item in data_refine_dic[key]:\n",
    "                data_test.append(item)\n",
    "            data_test_target = data_refine_target\n",
    "\n",
    "    return (data_train, data_train_target, data_test, data_test_target)\n",
    "\n",
    "\n",
    "# shuffle the categarized data\n",
    "def shuffle_data_ca(data_ca, data_ca_target):\n",
    "    data_shf = []\n",
    "    data_shf_target = []\n",
    "    for i in range(len(data_ca)):\n",
    "        loc = random.randint(0, len(data_ca) - 1)\n",
    "        data_shf.append(data_ca.pop(loc))\n",
    "        data_shf_target.append(data_ca_target.pop(loc))\n",
    "\n",
    "    return (data_shf, data_shf_target)\n",
    "\n",
    "# scale all data into [0,1]\n",
    "def scale_data(dt_train):\n",
    "    col_max_min = [(np.min(col), np.max(col)) for col in list(zip(*dt_train)) ]\n",
    "    for row_index in range(len(dt_train)):\n",
    "        for col_index in range(len(dt_train[row_index])):\n",
    "            col_min = col_max_min[col_index][0]\n",
    "            col_max = col_max_min[col_index][1]\n",
    "            dt_train[row_index][col_index] = (dt_train[row_index][col_index]-col_min)/(col_max-col_min)\n",
    "    return dt_train\n",
    "\n"
   ]
  },
  {
   "cell_type": "markdown",
   "metadata": {},
   "source": [
    "# 3. SVM Kernel functions"
   ]
  },
  {
   "cell_type": "code",
   "execution_count": 28,
   "metadata": {},
   "outputs": [],
   "source": [
    "## generate random weight w0,w1,w2,w3.....\n",
    "def generate_weight(num_attr, start, end, seed=2):\n",
    "    random.seed(seed)\n",
    "    wt_lst=[]\n",
    "    for i in range(num_attr):\n",
    "        wt_lst.append(random.uniform(start, end))\n",
    "    return np.array(wt_lst)\n",
    "\n",
    "## gaussian_kernel func\n",
    "def gaussian_kernel (x_ipt,lama_single,sigma):\n",
    "    prob = np.exp(-(np.linalg.norm(abs(x_ipt-lama_single)))**2/(2*sigma**2))\n",
    "    return prob\n",
    "\n",
    "## generate gaussian features\n",
    "def gaussian_feature_make(dt_train,lama, sigma, round_limit=5):\n",
    "    feature=[]\n",
    "    for val in dt_train:\n",
    "        feature.append([ round(gaussian_kernel( val , sig, sigma),round_limit) for sig in lama])\n",
    "        feature[-1].insert(0,1)\n",
    "    return feature\n",
    "\n",
    "## polynomial_kernel func\n",
    "def poly_kernel(x_ipt, lama_single, degree=2, bias=0):\n",
    "    poly_val = (np.dot(x_ipt, lama_single)+bias)**degree\n",
    "    return poly_val\n",
    "\n",
    "## generate poly features\n",
    "def poly_feature_make(dt_train,lama, degree=2, bias=0):\n",
    "    feature=[]\n",
    "    for val in dt_train:\n",
    "        feature.append([ poly_kernel( val , sig, degree, bias) for sig in lama ])\n",
    "        feature[-1].insert(0,1)\n",
    "    return feature\n",
    "\n",
    "## calc error rate\n",
    "def test_model(features,wt_arr, dt_train_target, online=False):\n",
    "    error=0\n",
    "    for index in range(len(features)):\n",
    "            r = np.dot(features[index], wt_arr)*dt_train_target[index]\n",
    "            if r>=0:\n",
    "                continue\n",
    "            else:\n",
    "                error+=1\n",
    "        \n",
    "    error_rate = error/len(features)\n",
    "    return error_rate\n",
    "\n"
   ]
  },
  {
   "cell_type": "code",
   "execution_count": null,
   "metadata": {},
   "outputs": [],
   "source": []
  },
  {
   "cell_type": "markdown",
   "metadata": {},
   "source": [
    "# 4. Test SVM Gaussian & Polynomial Kernel"
   ]
  },
  {
   "cell_type": "code",
   "execution_count": 40,
   "metadata": {},
   "outputs": [],
   "source": [
    "# load raw data and show correlation with target column\n",
    "data_raw, data_raw_index=load_data('heart_disease_data.csv')\n",
    "\n",
    "# drop 'chol', 'fbs' du to low correlation to the target \n",
    "data_raw = data_raw.drop(columns=['chol', 'fbs'])\n",
    "data_raw_index = data_raw.keys()\n",
    "\n",
    "# covert from dataset dataframe to list\n",
    "data_lst = data_raw.values.tolist()\n",
    "\n",
    "# refine the dataset by removing the target columns \n",
    "data_rf = [dt[:-1] for dt in data_lst]\n",
    "data_rf_target = list(list(zip(*data_lst))[-1])\n",
    "\n",
    "# normalize the every columns value to [0,1]\n",
    "data_rf = scale_data(data_rf)\n",
    "\n",
    "# modify dataset target to '1' or '-1'\n",
    "for index in range(len(data_rf_target)):\n",
    "    if data_rf_target[index] == 0.0:\n",
    "        data_rf_target[index] = -1\n",
    "\n",
    "# convert data_raw_index to a list so as to match the dataset columns\n",
    "data_index = data_raw_index.values.tolist()\n",
    "data_index = data_index[:-1]\n",
    "\n",
    "# split the data_rf into train & test sets\n",
    "split_ratio=0.7\n",
    "dt_train, dt_train_target, dt_test, dt_test_target = \\\n",
    "    split_train_test_data(data_rf, data_rf_target, split_ratio, rand=True, seed=2)\n",
    "\n",
    "# define lama\n",
    "lama = np.array(dt_train)\n",
    "lama_length= len(lama)"
   ]
  },
  {
   "cell_type": "code",
   "execution_count": 41,
   "metadata": {},
   "outputs": [],
   "source": [
    "wt_arr = generate_weight(lama_length+1, 0, 1, seed=2)"
   ]
  },
  {
   "cell_type": "markdown",
   "metadata": {},
   "source": [
    "# 5. Test SVM Gaussian Kernel"
   ]
  },
  {
   "cell_type": "code",
   "execution_count": 42,
   "metadata": {
    "scrolled": false
   },
   "outputs": [
    {
     "data": {
      "image/png": "[encoded data removed]",
      "text/plain": [
       "<Figure size 432x288 with 1 Axes>"
      ]
     },
     "metadata": {
      "needs_background": "light"
     },
     "output_type": "display_data"
    },
    {
     "name": "stdout",
     "output_type": "stream",
     "text": [
      "bias: 2.358490566037736 %\n",
      "\n",
      "variance: 18.681318681318682 %\n",
      "\n",
      "score: 81.31868131868131 %\n",
      "\n"
     ]
    }
   ],
   "source": [
    "# generate weight\n",
    "\n",
    "'''\n",
    "wt_arr = np.array(\n",
    "      [0.31723615, 0.59839214, 0.05542754, 0.69780152, 0.11433811,\n",
    "       0.26411284, 0.62593315, 0.59850332, 0.40631332, 0.53978186,\n",
    "       0.45232046, 0.08084045, 0.98703317, 0.08464611, 0.65040273,\n",
    "       0.6911722 , 0.21746784, 0.97776841, 0.69502738, 0.90567967,\n",
    "       0.68603252, 0.83864956, 0.69541723, 0.56675704, 0.92281704,\n",
    "       0.19208563, 0.25889681, 0.81754989, 0.00189628, 0.20256635,\n",
    "       0.61013582, 0.55090555, 0.92641544, 0.61398029, 0.71818084,\n",
    "       0.12759176, 0.07250727, 0.99384406, 0.43196257, 0.02675348,\n",
    "       0.0150003 , 0.91002406, 0.97075602, 0.16677297, 0.13629983,\n",
    "       0.03909305, 0.65542495, 0.73360865, 0.92420238, 0.25780604,\n",
    "       0.05754454, 0.48838059, 0.32783357, 0.05998582, 0.94225299,\n",
    "       0.53119836, 0.44678873, 0.91678048, 0.74079227, 0.98812898,\n",
    "       0.89827468, 0.20596274, 0.55485018, 0.32898219, 0.03636139,\n",
    "       0.49623078, 0.00640809, 0.33769428, 0.94009367, 0.21387229,\n",
    "       0.26025063, 0.67353011, 0.84199266, 0.64154922, 0.44734616,\n",
    "       0.40661117, 0.6580956 , 0.24140394, 0.03138276, 0.81700623,\n",
    "       0.31818724, 0.43341557, 0.89647979, 0.66101464, 0.47736943,\n",
    "       0.21077359, 0.20668598, 0.20898198, 0.12951376, 0.61555916,\n",
    "       0.43085363, 0.9769142 , 0.80249592, 0.03639804, 0.67382593,\n",
    "       0.14236186, 0.70876857, 0.03134699, 0.60541857, 0.69766334,\n",
    "       0.63100804, 0.29969172, 0.1603885 , 0.69830326, 0.3328002 ,\n",
    "       0.32165321, 0.94036754, 0.51650287, 0.37937465, 0.39735824,\n",
    "       0.97225139, 0.49116828, 0.7471992 , 0.87066774, 0.82466142,\n",
    "       0.88518261, 0.80713177, 0.0534088 , 0.90751841, 0.21339982,\n",
    "       0.92306281, 0.85345234, 0.18842401, 0.09561545, 0.93586875,\n",
    "       0.0368079 , 0.82888568, 0.0109623 , 0.33030833, 0.43683433,\n",
    "       0.66087768, 0.70162001, 0.77167013, 0.46306743, 0.67550841,\n",
    "       0.23924282, 0.77972591, 0.40566505, 0.76631112, 0.06466909,\n",
    "       0.62026443, 0.82665235, 0.96495338, 0.50366374, 0.55581645,\n",
    "       0.69350789, 0.73492429, 0.52012689, 0.59195063, 0.02786656,\n",
    "       0.07880071, 0.04912526, 0.76192343, 0.36503458, 0.31295716,\n",
    "       0.17165047, 0.65578923, 0.02452314, 0.19498387, 0.30169768,\n",
    "       0.05736573, 0.40499695, 0.83034273, 0.84556034, 0.9901255 ,\n",
    "       0.30026824, 0.18688159, 0.07316702, 0.48155021, 0.34133986,\n",
    "       0.579658  , 0.62496244, 0.32851044, 0.07677184, 0.98832899,\n",
    "       0.6858416 , 0.21993009, 0.79399687, 0.61724858, 0.12311249,\n",
    "       0.89700057, 0.07657647, 0.63083332, 0.63538437, 0.72692839,\n",
    "       0.72409395, 0.69792373, 0.33144316, 0.43183198, 0.80245758,\n",
    "       0.17710188, 0.16866645, 0.15845905, 0.43998239, 0.38452961,\n",
    "       0.76476533, 0.74080273, 0.26298417, 0.91046248, 0.23177756,\n",
    "       0.45335706, 0.61265332, 0.99455452, 0.28554638, 0.33226195,\n",
    "       0.20905672, 0.61711004, 0.32076612, 0.92694764, 0.29307057,\n",
    "       0.12937225, 0.98722711, 0.88524772, 0.42595381, 0.30529846,\n",
    "       0.4392057 , 0.8115665 , 0.05864945, 0.4778882 , 0.14669446,\n",
    "       0.52037354, 0.02882905, 0.49624234, 0.6000718 , 0.90025847,\n",
    "       0.50322965, 0.2596967 , 0.92408905, 0.92142321, 0.67205823,\n",
    "       0.13602854, 0.56148774, 0.93051724, 0.36778463, 0.99583369,\n",
    "       0.46531341, 0.41110236, 0.05427626, 0.58695686, 0.03669319,\n",
    "       0.73744478, 0.72974618, 0.34297175])\n",
    "'''\n",
    "# generate features\n",
    "sigma = 0.5\n",
    "features = gaussian_feature_make(dt_train, lama, sigma)\n",
    "features_test = gaussian_feature_make(dt_test, lama, sigma)\n",
    "\n",
    "# train the model\n",
    "C=1e10\n",
    "stp=1\n",
    "epoch_limit =2000\n",
    "epoch=0\n",
    "hinge_loss_all=0\n",
    "\n",
    "hinge_loss_plt=[]\n",
    "epoch_plt=[]\n",
    "while epoch <= epoch_limit:\n",
    "    hinge_loss=[]\n",
    "    \n",
    "    epoch_plt.append(epoch)\n",
    "    hinge_loss_last = hinge_loss_all\n",
    "    reg_val = 1 / C\n",
    "\n",
    "    for index in range(len(features)):\n",
    "\n",
    "        r = np.dot(features[index], wt_arr)*dt_train_target[index]\n",
    "\n",
    "        if r>=1:\n",
    "            hinge_loss.append(0)\n",
    "            wt_arr = wt_arr - stp*reg_val*wt_arr\n",
    "        else:\n",
    "            hinge_loss.append(1-r)\n",
    "            wt_arr = wt_arr + stp*(dt_train_target[index]*np.array(features[index])-reg_val*wt_arr)\n",
    "        hinge_loss_all = sum(hinge_loss)\n",
    "    \n",
    "    hinge_loss_plt.append(hinge_loss_all)\n",
    "    \n",
    "    if abs(hinge_loss_last - hinge_loss_all)<=0.1:\n",
    "        stp = stp * 0.1\n",
    "\n",
    "    if stp<=1e-300:\n",
    "        break\n",
    "\n",
    "    epoch+=1\n",
    "\n",
    "# plot hinge loss        \n",
    "plt.plot(epoch_plt, hinge_loss_plt)\n",
    "plt.title('hinge loss vs epochs')\n",
    "plt.xlabel('epochs')\n",
    "plt.ylabel('hingle loss')\n",
    "plt.grid()\n",
    "plt.show()\n",
    "\n",
    "# calculate bias\n",
    "bias = test_model(features,wt_arr, dt_train_target)\n",
    "print('bias:', bias*100, '%\\n')\n",
    "\n",
    "# calculate cross-validation\n",
    "variance=bias = test_model(features_test,wt_arr, dt_test_target)\n",
    "print('variance:', variance*100,'%\\n')\n",
    "\n",
    "# print score\n",
    "print('score:', (1-variance)*100,'%\\n')"
   ]
  },
  {
   "cell_type": "code",
   "execution_count": 43,
   "metadata": {},
   "outputs": [
    {
     "data": {
      "text/plain": [
       "6.3313416081479215"
      ]
     },
     "execution_count": 43,
     "metadata": {},
     "output_type": "execute_result"
    }
   ],
   "source": [
    "hinge_loss_plt[-1]"
   ]
  },
  {
   "cell_type": "markdown",
   "metadata": {},
   "source": [
    "# 4. Test SVM Polynormial Kernel"
   ]
  },
  {
   "cell_type": "code",
   "execution_count": 17,
   "metadata": {},
   "outputs": [
    {
     "data": {
      "image/png": "[encoded data removed]",
      "text/plain": [
       "<Figure size 432x288 with 1 Axes>"
      ]
     },
     "metadata": {
      "needs_background": "light"
     },
     "output_type": "display_data"
    },
    {
     "name": "stdout",
     "output_type": "stream",
     "text": [
      "bias: 21.487603305785125 %\n",
      "\n",
      "variance: 13.114754098360656 %\n",
      "\n",
      "score: 86.88524590163934 %\n",
      "\n"
     ]
    }
   ],
   "source": [
    "# generate weight\n",
    "#wt_arr = generate_weight(lama_length+1, 0, 1)\n",
    "wt_arr = np.array(\n",
    "      [0.31723615, 0.59839214, 0.05542754, 0.69780152, 0.11433811,\n",
    "       0.26411284, 0.62593315, 0.59850332, 0.40631332, 0.53978186,\n",
    "       0.45232046, 0.08084045, 0.98703317, 0.08464611, 0.65040273,\n",
    "       0.6911722 , 0.21746784, 0.97776841, 0.69502738, 0.90567967,\n",
    "       0.68603252, 0.83864956, 0.69541723, 0.56675704, 0.92281704,\n",
    "       0.19208563, 0.25889681, 0.81754989, 0.00189628, 0.20256635,\n",
    "       0.61013582, 0.55090555, 0.92641544, 0.61398029, 0.71818084,\n",
    "       0.12759176, 0.07250727, 0.99384406, 0.43196257, 0.02675348,\n",
    "       0.0150003 , 0.91002406, 0.97075602, 0.16677297, 0.13629983,\n",
    "       0.03909305, 0.65542495, 0.73360865, 0.92420238, 0.25780604,\n",
    "       0.05754454, 0.48838059, 0.32783357, 0.05998582, 0.94225299,\n",
    "       0.53119836, 0.44678873, 0.91678048, 0.74079227, 0.98812898,\n",
    "       0.89827468, 0.20596274, 0.55485018, 0.32898219, 0.03636139,\n",
    "       0.49623078, 0.00640809, 0.33769428, 0.94009367, 0.21387229,\n",
    "       0.26025063, 0.67353011, 0.84199266, 0.64154922, 0.44734616,\n",
    "       0.40661117, 0.6580956 , 0.24140394, 0.03138276, 0.81700623,\n",
    "       0.31818724, 0.43341557, 0.89647979, 0.66101464, 0.47736943,\n",
    "       0.21077359, 0.20668598, 0.20898198, 0.12951376, 0.61555916,\n",
    "       0.43085363, 0.9769142 , 0.80249592, 0.03639804, 0.67382593,\n",
    "       0.14236186, 0.70876857, 0.03134699, 0.60541857, 0.69766334,\n",
    "       0.63100804, 0.29969172, 0.1603885 , 0.69830326, 0.3328002 ,\n",
    "       0.32165321, 0.94036754, 0.51650287, 0.37937465, 0.39735824,\n",
    "       0.97225139, 0.49116828, 0.7471992 , 0.87066774, 0.82466142,\n",
    "       0.88518261, 0.80713177, 0.0534088 , 0.90751841, 0.21339982,\n",
    "       0.92306281, 0.85345234, 0.18842401, 0.09561545, 0.93586875,\n",
    "       0.0368079 , 0.82888568, 0.0109623 , 0.33030833, 0.43683433,\n",
    "       0.66087768, 0.70162001, 0.77167013, 0.46306743, 0.67550841,\n",
    "       0.23924282, 0.77972591, 0.40566505, 0.76631112, 0.06466909,\n",
    "       0.62026443, 0.82665235, 0.96495338, 0.50366374, 0.55581645,\n",
    "       0.69350789, 0.73492429, 0.52012689, 0.59195063, 0.02786656,\n",
    "       0.07880071, 0.04912526, 0.76192343, 0.36503458, 0.31295716,\n",
    "       0.17165047, 0.65578923, 0.02452314, 0.19498387, 0.30169768,\n",
    "       0.05736573, 0.40499695, 0.83034273, 0.84556034, 0.9901255 ,\n",
    "       0.30026824, 0.18688159, 0.07316702, 0.48155021, 0.34133986,\n",
    "       0.579658  , 0.62496244, 0.32851044, 0.07677184, 0.98832899,\n",
    "       0.6858416 , 0.21993009, 0.79399687, 0.61724858, 0.12311249,\n",
    "       0.89700057, 0.07657647, 0.63083332, 0.63538437, 0.72692839,\n",
    "       0.72409395, 0.69792373, 0.33144316, 0.43183198, 0.80245758,\n",
    "       0.17710188, 0.16866645, 0.15845905, 0.43998239, 0.38452961,\n",
    "       0.76476533, 0.74080273, 0.26298417, 0.91046248, 0.23177756,\n",
    "       0.45335706, 0.61265332, 0.99455452, 0.28554638, 0.33226195,\n",
    "       0.20905672, 0.61711004, 0.32076612, 0.92694764, 0.29307057,\n",
    "       0.12937225, 0.98722711, 0.88524772, 0.42595381, 0.30529846,\n",
    "       0.4392057 , 0.8115665 , 0.05864945, 0.4778882 , 0.14669446,\n",
    "       0.52037354, 0.02882905, 0.49624234, 0.6000718 , 0.90025847,\n",
    "       0.50322965, 0.2596967 , 0.92408905, 0.92142321, 0.67205823,\n",
    "       0.13602854, 0.56148774, 0.93051724, 0.36778463, 0.99583369,\n",
    "       0.46531341, 0.41110236, 0.05427626, 0.58695686, 0.03669319,\n",
    "       0.73744478, 0.72974618, 0.34297175])\n",
    "\n",
    "# define lama\n",
    "lama = np.array(dt_train)\n",
    "lama_length= len(lama)\n",
    "\n",
    "# generate features\n",
    "features = poly_feature_make(dt_train, lama, degree=2, bias=0)\n",
    "features_test = poly_feature_make(dt_test, lama, degree=2, bias=0)\n",
    "\n",
    "# train the model\n",
    "C=1000\n",
    "stp=0.001\n",
    "epoch_limit =2000\n",
    "epoch=0\n",
    "hinge_loss_all=0\n",
    "hinge_loss_plt=[]\n",
    "epoch_plt=[]\n",
    "\n",
    "while epoch <= epoch_limit:\n",
    "    hinge_loss=[]\n",
    "    \n",
    "    epoch_plt.append(epoch)\n",
    "    hinge_loss_last = hinge_loss_all\n",
    "    reg_val = 1 / C\n",
    "\n",
    "    for index in range(len(features)):\n",
    "\n",
    "        r = np.dot(features[index], wt_arr)*dt_train_target[index]\n",
    "\n",
    "        if r>=1:\n",
    "            hinge_loss.append(0)\n",
    "            wt_arr = wt_arr - stp*reg_val*wt_arr    \n",
    "        else:\n",
    "            hinge_loss.append(1-r)\n",
    "            wt_arr = wt_arr + stp*(dt_train_target[index]*np.array(features[index])-reg_val*wt_arr)\n",
    "        \n",
    "        hinge_loss_all = sum(hinge_loss)\n",
    "    \n",
    "    hinge_loss_plt.append(hinge_loss_all)\n",
    "    \n",
    "    if abs(hinge_loss_last - hinge_loss_all)<=0.1:\n",
    "        stp = stp * 0.1\n",
    "\n",
    "    if stp<=1e-300:\n",
    "        break\n",
    "\n",
    "    epoch+=1\n",
    "\n",
    "# plot hinge loss        \n",
    "plt.plot(epoch_plt, hinge_loss_plt)\n",
    "plt.title('hinge loss vs epochs')\n",
    "plt.xlabel('epochs')\n",
    "plt.ylabel('hingle loss')\n",
    "plt.grid()\n",
    "plt.show()\n",
    "\n",
    "# calculate bias\n",
    "bias = test_model(features,wt_arr, dt_train_target)\n",
    "print('bias:', bias*100, '%\\n')\n",
    "\n",
    "# calculate cross-validation\n",
    "variance = test_model(features_test,wt_arr, dt_test_target)\n",
    "print('variance:', variance*100,'%\\n')\n",
    "\n",
    "# print score\n",
    "print('score:', (1-variance)*100,'%\\n')"
   ]
  },
  {
   "cell_type": "code",
   "execution_count": 18,
   "metadata": {},
   "outputs": [
    {
     "name": "stdout",
     "output_type": "stream",
     "text": [
      "29618.13849434891 224.4618537058172\n"
     ]
    }
   ],
   "source": [
    "print(hinge_loss_plt[0],hinge_loss_plt[-1])"
   ]
  },
  {
   "cell_type": "code",
   "execution_count": 19,
   "metadata": {},
   "outputs": [
    {
     "data": {
      "text/plain": [
       "1.0000000000000169e-301"
      ]
     },
     "execution_count": 19,
     "metadata": {},
     "output_type": "execute_result"
    }
   ],
   "source": [
    "stp"
   ]
  },
  {
   "cell_type": "markdown",
   "metadata": {
    "scrolled": true
   },
   "source": [
    "# 5. Sklearn test"
   ]
  },
  {
   "cell_type": "code",
   "execution_count": 196,
   "metadata": {},
   "outputs": [
    {
     "data": {
      "text/plain": [
       "SVC(C=100, cache_size=200, class_weight=None, coef0=0.0,\n",
       "    decision_function_shape='ovr', degree=3, gamma='scale', kernel='rbf',\n",
       "    max_iter=-1, probability=False, random_state=1, shrinking=True, tol=0.01,\n",
       "    verbose=False)"
      ]
     },
     "execution_count": 196,
     "metadata": {},
     "output_type": "execute_result"
    }
   ],
   "source": [
    "from sklearn.svm import SVC\n",
    "\n",
    "data_raw, data_raw_index=load_data('heart_disease_data.csv')\n",
    "data_raw = data_raw.drop(columns=['chol', 'fbs'])\n",
    "data_raw_index = data_raw.keys()\n",
    "\n",
    "# covert from dataset dataframe to list\n",
    "data_lst = data_raw.values.tolist()\n",
    "\n",
    "# refine the dataset by removing the target columns \n",
    "data_rf = [dt[:-1] for dt in data_lst]\n",
    "data_rf_target = list(list(zip(*data_lst))[-1])\n",
    "\n",
    "# normalize the every columns value to [0,1]\n",
    "data_rf = scale_data(data_rf)\n",
    "\n",
    "# add one more column with value '1' into dataset for bias\n",
    "for dt in data_rf:\n",
    "    dt.append(1)\n",
    "\n",
    "# modify dataset target to '1' or '-1'\n",
    "for index in range(len(data_rf_target)):\n",
    "    if data_rf_target[index] == 0.0:\n",
    "        data_rf_target[index] = -1\n",
    "\n",
    "# split the data_rf into train & test sets\n",
    "# split ratio is 0.8\n",
    "dt_train, dt_train_target, dt_test, dt_test_target = \\\n",
    "    split_train_test_data(data_rf, data_rf_target, split_ratio=0.8, rand=False)\n",
    "\n",
    "# shuffle all training data\n",
    "dt_train, dt_train_target = shuffle_data_ca(dt_train, dt_train_target);\n",
    "\n",
    "model = SVC(C=100, gamma='scale', kernel='rbf',random_state=1, tol=0.01)\n",
    "model.fit(dt_train, dt_train_target)"
   ]
  },
  {
   "cell_type": "code",
   "execution_count": 197,
   "metadata": {},
   "outputs": [
    {
     "name": "stdout",
     "output_type": "stream",
     "text": [
      "score: 23.809523809523807 %\n",
      "\n"
     ]
    }
   ],
   "source": [
    "score = model.score(dt_test, dt_test_target)\n",
    "print('score:',score*100, '%\\n')"
   ]
  },
  {
   "cell_type": "code",
   "execution_count": 49,
   "metadata": {},
   "outputs": [
    {
     "data": {
      "text/plain": [
       "[[1, 2, 3], [3, 4, 5]]"
      ]
     },
     "execution_count": 49,
     "metadata": {},
     "output_type": "execute_result"
    }
   ],
   "source": [
    "from copy import deepcopy\n",
    "a=[[1,2,3],[3,4,5]]\n",
    "b=a.copy()\n",
    "b.append('haha')\n",
    "a"
   ]
  },
  {
   "cell_type": "code",
   "execution_count": null,
   "metadata": {},
   "outputs": [],
   "source": []
  },
  {
   "cell_type": "code",
   "execution_count": null,
   "metadata": {},
   "outputs": [],
   "source": []
  },
  {
   "cell_type": "code",
   "execution_count": null,
   "metadata": {},
   "outputs": [],
   "source": []
  },
  {
   "cell_type": "code",
   "execution_count": null,
   "metadata": {},
   "outputs": [],
   "source": []
  },
  {
   "cell_type": "code",
   "execution_count": null,
   "metadata": {},
   "outputs": [],
   "source": []
  },
  {
   "cell_type": "code",
   "execution_count": null,
   "metadata": {},
   "outputs": [],
   "source": []
  },
  {
   "cell_type": "code",
   "execution_count": null,
   "metadata": {},
   "outputs": [],
   "source": []
  },
  {
   "cell_type": "code",
   "execution_count": null,
   "metadata": {},
   "outputs": [],
   "source": []
  },
  {
   "cell_type": "code",
   "execution_count": null,
   "metadata": {},
   "outputs": [],
   "source": []
  },
  {
   "cell_type": "code",
   "execution_count": null,
   "metadata": {},
   "outputs": [],
   "source": []
  },
  {
   "cell_type": "code",
   "execution_count": null,
   "metadata": {},
   "outputs": [],
   "source": [
    "\n",
    "\n"
   ]
  }
 ],
 "metadata": {
  "kernelspec": {
   "display_name": "Python 3",
   "language": "python",
   "name": "python3"
  },
  "language_info": {
   "codemirror_mode": {
    "name": "ipython",
    "version": 3
   },
   "file_extension": ".py",
   "mimetype": "text/x-python",
   "name": "python",
   "nbconvert_exporter": "python",
   "pygments_lexer": "ipython3",
   "version": "3.6.8"
  }
 },
 "nbformat": 4,
 "nbformat_minor": 2
}
