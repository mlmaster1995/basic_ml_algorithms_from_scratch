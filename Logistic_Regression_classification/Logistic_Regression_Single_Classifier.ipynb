{
 "cells": [
  {
   "cell_type": "markdown",
   "metadata": {},
   "source": [
    "# 1.Logistic Regression Classification (2 Classes) from Scratch\n",
    "\n",
    "### 1.1. The random initial weight affects the training model error/ bias ( chang from 8% to 10%) with 1000 epoches;\n",
    "### 1.2. The data set source: https://www.kaggle.com/benyaengineering/breast-cancer-classification;\n",
    "### 1.3. Dataset size: 569*32, 569 data instances and 32 features with 2 classes;\n",
    "### 1.5. The dataset is split with 70% for training and 30% for testing;\n",
    "### 1.4. The model converge after 150 epochs;\n",
    "### 1.5. Threshold is at 0.7, bias & vaiance is less than 10%, score 86% - 93%;\n",
    "### 1.6. Scikit Learn is used for a reference\n",
    "### 1.7. Both scratch model & scikit score varies with every run. This is normal as the dataset split is random, so every times different train & test dataset is used"
   ]
  },
  {
   "cell_type": "markdown",
   "metadata": {},
   "source": [
    "# 2. Seperate Code"
   ]
  },
  {
   "cell_type": "markdown",
   "metadata": {},
   "source": [
    "### 2.1. Load Packages"
   ]
  },
  {
   "cell_type": "code",
   "execution_count": 22,
   "metadata": {},
   "outputs": [],
   "source": [
    "import numpy as np\n",
    "import pandas as pd\n",
    "import matplotlib.pyplot as plt\n",
    "import statistics as st\n",
    "import random\n",
    "import os\n",
    "import math"
   ]
  },
  {
   "cell_type": "markdown",
   "metadata": {},
   "source": [
    "### 2.2. Data Processing Functions"
   ]
  },
  {
   "cell_type": "code",
   "execution_count": 23,
   "metadata": {},
   "outputs": [],
   "source": [
    "## load & split data into train & test set\n",
    "def load_data(name):\n",
    "    path = os.getcwd()\n",
    "    data_path = os.path.join(path,name)\n",
    "    data_raw = pd.read_csv(data_path)\n",
    "    data_index = data_raw.keys()\n",
    "    return (data_raw, data_index)\n",
    "\n",
    "## replace 'M'=1 'B'=0, cut ID column, return an array: data_train, data_target, train_index, train_row, train_col \n",
    "def refine_data(data_raw, data_index):\n",
    "    data_target = data_raw.iloc[:,1:2].values.tolist()\n",
    "    data_refine = data_raw.iloc[:,2:].values.tolist()   \n",
    "    data_rf_index = data_index[2:]\n",
    "    data_rf_target=[]\n",
    "    \n",
    "    for item in data_target:\n",
    "        if item[0]=='M':\n",
    "            data_rf_target.append(1)\n",
    "        else: \n",
    "            data_rf_target.append(0)\n",
    "    \n",
    "    data_row = len(data_refine)\n",
    "    data_column = len(data_rf_index)\n",
    "   \n",
    "    return (data_rf_target, data_refine, data_rf_index, data_row, data_column)\n",
    "\n",
    "## plot histogram of each attribute\n",
    "def plot_hist(data_refine, data_refine_index):\n",
    "    data_zip = list(zip(*data_refine))\n",
    "    \n",
    "    for index in range(len(data_zip)):\n",
    "        each_attr = data_zip[index]\n",
    "        low_b = math.floor(min(each_attr))\n",
    "        upp_b = math.ceil(max(each_attr))\n",
    "        plt.hist(each_attr, range=[low_b, upp_b])\n",
    "        plt.title(data_refine_index[index],loc='center')\n",
    "        plt.grid()\n",
    "        plt.show()\n",
    "\n",
    "## split data_test from data_train, split_ration=0.7, 70% data for training, 30% of data for testing\n",
    "## both test & train set are list\n",
    "def split_train_test_data(data_refine, data_refine_target, split_ratio):\n",
    "    data_train=[]\n",
    "    data_train_target=[]\n",
    " \n",
    "    train_length = int(len(data_refine)*split_ratio)\n",
    "    \n",
    "    for index in range(train_length):\n",
    "        pos = random.randint(1,len(data_refine))-1\n",
    "        data_train.append(data_refine.pop(pos))\n",
    "        data_train_target.append(data_refine_target.pop(pos))\n",
    "                          \n",
    "    data_test = data_refine\n",
    "    data_test_target = data_refine_target\n",
    "    \n",
    "    return (data_train, data_train_target, data_test, data_test_target)                       \n",
    "\n",
    "# scale all data into [0,1]\n",
    "def scale_data(dt_train):\n",
    "    col_max_min = [(np.min(col), np.max(col)) for col in list(zip(*dt_train)) ]\n",
    "    for row_index in range(len(dt_train)):\n",
    "        for col_index in range(len(dt_train[row_index])):\n",
    "            col_min = col_max_min[col_index][0]\n",
    "            col_max = col_max_min[col_index][1]\n",
    "            dt_train[row_index][col_index] = (dt_train[row_index][col_index]-col_min)/(col_max-col_min)\n",
    "    return dt_train\n"
   ]
  },
  {
   "cell_type": "code",
   "execution_count": null,
   "metadata": {},
   "outputs": [],
   "source": []
  },
  {
   "cell_type": "code",
   "execution_count": null,
   "metadata": {},
   "outputs": [],
   "source": []
  },
  {
   "cell_type": "code",
   "execution_count": null,
   "metadata": {},
   "outputs": [],
   "source": []
  },
  {
   "cell_type": "code",
   "execution_count": null,
   "metadata": {},
   "outputs": [],
   "source": []
  },
  {
   "cell_type": "code",
   "execution_count": null,
   "metadata": {},
   "outputs": [],
   "source": []
  },
  {
   "cell_type": "markdown",
   "metadata": {},
   "source": [
    "### 2.3. Train & Test Model Functions"
   ]
  },
  {
   "cell_type": "code",
   "execution_count": 24,
   "metadata": {},
   "outputs": [],
   "source": [
    "## define sigmoid function\n",
    "def sigmoid_lst(z_list):\n",
    "    return [ 1/(1+ math.exp(-value)) for value in z_list]\n",
    "\n",
    "def sigmoid_sgv(z):\n",
    "    return 1/(1+math.exp(-z))\n",
    "\n",
    "## define cost function\n",
    "def cost_func(h_x_lst, y_lst, threshold):\n",
    "    cost=[];\n",
    "    for index in range(len(h_x_lst)):\n",
    "        if h_x_lst[index]<=0 or (1-h_x_lst[index])<=0:\n",
    "            print('\\n hx out of range')\n",
    "            print(*h_x_lst,sep='\\n')\n",
    "            break\n",
    "            \n",
    "        if round(h_x_lst[index],3) >= threshold and y_lst[index] ==1:\n",
    "            #print('*',h_x_lst[index],y_lst[index])\n",
    "            cost.append(0)\n",
    "        elif round(h_x_lst[index],3) < threshold and y_lst[index] ==0:\n",
    "            #print('**',h_x_lst[index],y_lst[index])\n",
    "            cost.append(0)\n",
    "        else:\n",
    "            #print('***',h_x_lst[index],y_lst[index])\n",
    "            cal= (y_lst[index]*math.log(h_x_lst[index])+(1-y_lst[index])*math.log(1-h_x_lst[index]))\n",
    "            #print(cal)\n",
    "            cost.append(cal)\n",
    "    \n",
    "    mean_cost = abs(st.mean(cost))\n",
    "    #print('***',mean_cost)\n",
    "    \n",
    "    return mean_cost      \n",
    "        \n",
    "\n",
    "## define weight update function\n",
    "def weight_update(wt_arr, h_x_arr, y_arr, x_arr, stp, reg_lambda=0, threshold=0.5):\n",
    "    \n",
    "    for val in list(zip(h_x_arr, y_arr, x_arr)):\n",
    "        \n",
    "        if round(val[0],3) >= threshold and val[1] == 1:\n",
    "            continue\n",
    "        elif round(val[0],3)< threshold and val[1] == 0: \n",
    "            continue\n",
    "        else:\n",
    "            er = (val[0]-val[1])/len(x_arr)\n",
    "            wt_upt = er*val[2]\n",
    "            wt_arr = wt_arr*(1-stp*reg_lambda/len(x_arr)) - stp*wt_upt\n",
    "    \n",
    "    return wt_arr\n",
    "\n",
    "## generate random weight for attribute and return an array\n",
    "def generate_weight(num_attr):\n",
    "    wt_array=[]\n",
    "    for i in range(num_attr):\n",
    "        wt_array.append(random.uniform(0,0.5))\n",
    "    \n",
    "    return np.array(wt_array)\n",
    "\n",
    "## calculate the error rate for the traning set in the model\n",
    "def calc_error_rate(h_x_lst, dt_train_target, threshold=0.5):\n",
    "    #print(*list(zip(h_x_lst,dt_train_target)),sep='\\n')\n",
    "    error=0;\n",
    "    for item in zip(h_x_lst,dt_train_target):\n",
    "        if round(item[0],3)>= threshold and item[1]!= 1:\n",
    "            error+=1\n",
    "        elif round(item[0],3)< threshold and item[1]!=0:\n",
    "            error+=1\n",
    "    #print('Error Number: ',error)\n",
    "    return error/len(dt_train_target)\n",
    "\n",
    "## logistic regression function\n",
    "def logistic_regression(dt_train,dt_train_target,wt_arr,threshold=0.5,reg_lambda=0,stp=2,epoch=1000,degree=1,\n",
    "                  resolution=3, stop_limit=1e-300, plot=True):\n",
    "    \n",
    "    stp_limit = 1/pow(10,resolution)\n",
    "    ep=0\n",
    "    \n",
    "    epoch_limit=[]\n",
    "    cost_lst=[]\n",
    "    \n",
    "    # train the model\n",
    "    while ep<epoch:\n",
    "        # setup error default\n",
    "        er=0\n",
    "        epoch_limit.append(ep)\n",
    "\n",
    "        #calc train data hypothesis value\n",
    "        h_x_lst = [ sigmoid_sgv(pow(np.dot(wt_arr, np.array(each_dt)),degree)) for each_dt in dt_train]\n",
    "\n",
    "        # calculate error\n",
    "        #cost= calc_error_rate(h_x_lst, dt_train_target, threshold)\n",
    "        cost= cost_func(h_x_lst, dt_train_target, threshold)\n",
    "        cost_lst.append(cost)\n",
    "\n",
    "        # adjust step size\n",
    "        if ep>0:\n",
    "            if abs(round(cost_lst[-2],4)-round(cost_lst[-1],4))< stp_limit:\n",
    "                stp = stp*stp_limit\n",
    "            if stp< stop_limit:\n",
    "                break\n",
    "\n",
    "        #update weight values\n",
    "        h_x_arr = np.array(h_x_lst)\n",
    "        y_arr = np.array(dt_train_target)\n",
    "        x_arr = np.array(dt_train)\n",
    "\n",
    "        if reg_lambda > len(x_arr):\n",
    "            reg_lambda = x_arr\n",
    "\n",
    "        wt_arr = weight_update(wt_arr, h_x_arr, y_arr, x_arr, stp, reg_lambda, threshold)\n",
    "\n",
    "        ep+=1\n",
    "    \n",
    "    # clculate model training error rate\n",
    "    bias = calc_error_rate(h_x_lst, dt_train_target, threshold)\n",
    "\n",
    "    # plot the error rate\n",
    "    if plot:\n",
    "        plt.plot(epoch_limit, cost_lst)\n",
    "        plt.axis([0, len(epoch_limit), 0, 1])\n",
    "        plt.title('Cost Vs Epoch')\n",
    "        plt.xlabel('epoch')\n",
    "        plt.ylabel('Cost')\n",
    "        plt.grid()\n",
    "        plt.show()\n",
    "    \n",
    "    return (wt_arr, bias)\n"
   ]
  },
  {
   "cell_type": "markdown",
   "metadata": {},
   "source": [
    "# 3. Train & Test Model"
   ]
  },
  {
   "cell_type": "code",
   "execution_count": 25,
   "metadata": {},
   "outputs": [
    {
     "data": {
      "image/png": "[encoded data removed]",
      "text/plain": [
       "<Figure size 432x288 with 1 Axes>"
      ]
     },
     "metadata": {
      "needs_background": "light"
     },
     "output_type": "display_data"
    },
    {
     "name": "stdout",
     "output_type": "stream",
     "text": [
      "bias: 8.793969849246231 %\n",
      "\n",
      "Final weight: \n",
      " [ 0.31585681 -0.07307531  0.13857258  0.30474936 -0.23665005  0.17576019\n",
      "  0.33785563  0.05526941  0.03494087  0.0634953   0.38050211 -0.08043554\n",
      "  0.19258513  0.25217417 -0.05235134  0.27205924  0.06817959  0.0509708\n",
      "  0.03503857  0.14658765  0.04263542  0.14933668  0.13945524  0.19984535\n",
      "  0.22104986  0.1262542   0.35634335 -0.06858039  0.01549069  0.22195529] \n",
      "\n",
      "Variance: 13.450292397660817 %\n",
      "\n",
      "score:  86.54970760233918 %\n",
      "\n"
     ]
    }
   ],
   "source": [
    "# load raw data\n",
    "data_raw, data_raw_index=load_data('breast_cancer_data.csv')\n",
    "\n",
    "# refine raw data\n",
    "dt_rf_target, dt_refine, dt_index, dt_rf_row, dt_rf_column= refine_data(data_raw,data_raw_index)\n",
    "\n",
    "# split raw data into train & test\n",
    "dt_train, dt_train_target, dt_test, dt_test_target = split_train_test_data(dt_refine,dt_rf_target,0.7)\n",
    "\n",
    "# scale both train and test into [0,1]\n",
    "dt_train = scale_data(dt_train)\n",
    "dt_test = scale_data(dt_test)\n",
    "\n",
    "# generate general weight\n",
    "#wt_arr = generate_weight(len(dt_index))\n",
    "wt_arr = np.array([0.35461069, 0.028625, 0.17593328, 0.28893489, 0.00607685, 0.30147276,\n",
    " 0.35809594, 0.03850724, 0.26748097, 0.34306035, 0.37540016, 0.0882129,\n",
    " 0.19569421, 0.22945096, 0.15606727, 0.45092187, 0.17299598, 0.2468449,\n",
    " 0.19539798, 0.32623075, 0.03366006, 0.24920918, 0.13454076, 0.1561928,\n",
    " 0.41093688, 0.21628106, 0.42372828, 0.00117224, 0.13944796, 0.36425972,])\n",
    "\n",
    "# train model\n",
    "wt_arr, bias = logistic_regression(dt_train,dt_train_target,wt_arr,threshold=0.7,reg_lambda=0,stp=2,epoch=1000,\n",
    "                                   degree=1,resolution=3, stop_limit=1e-300, plot=True)\n",
    "print('bias:', bias*100, '%\\n')\n",
    "print('Final weight: \\n',wt_arr,'\\n')\n",
    "\n",
    "# cross validation\n",
    "dt_test_arr = np.array([dt_test])\n",
    "for ar in dt_test_arr:\n",
    "    dp=np.dot(ar, wt_arr)\n",
    "\n",
    "h_x_lst = [sigmoid_sgv(val) for val in dp]\n",
    "error = calc_error_rate(h_x_lst, dt_test_target, 0.7)\n",
    "\n",
    "print('Variance:',error*100,'%\\n')\n",
    "print('score: ', (1-error)*100,'%\\n')"
   ]
  },
  {
   "cell_type": "markdown",
   "metadata": {},
   "source": [
    "# 4. Scikit Learn Logistic Regression"
   ]
  },
  {
   "cell_type": "code",
   "execution_count": 29,
   "metadata": {},
   "outputs": [
    {
     "name": "stdout",
     "output_type": "stream",
     "text": [
      "scikit learn score: 97.07602339181285 %\n",
      "\n"
     ]
    }
   ],
   "source": [
    "# import package \n",
    "from sklearn.linear_model import LogisticRegression\n",
    "\n",
    "# load raw data\n",
    "data_raw, data_raw_index=load_data('breast_cancer_data.csv')\n",
    "\n",
    "# refine raw data\n",
    "dt_rf_target, dt_refine, dt_index, dt_rf_row, dt_rf_column= refine_data(data_raw,data_raw_index)\n",
    "\n",
    "# split raw data into train & test\n",
    "dt_train, dt_train_target, dt_test, dt_test_target = split_train_test_data(dt_refine,dt_rf_target,0.7)\n",
    "\n",
    "# scale both train and test into [0,1]\n",
    "dt_train = scale_data(dt_train)\n",
    "dt_test = scale_data(dt_test)\n",
    "\n",
    "# scikit learn logistic regression\n",
    "clf = LogisticRegression(random_state=1, solver='lbfgs',multi_class='multinomial').fit(dt_train, dt_train_target)\n",
    "score = clf.score(dt_test, dt_test_target)\n",
    "\n",
    "print('scikit learn score:',score*100, '%\\n')"
   ]
  },
  {
   "cell_type": "markdown",
   "metadata": {},
   "source": [
    "# 5. Seperate Code for Debugging"
   ]
  },
  {
   "cell_type": "code",
   "execution_count": 27,
   "metadata": {
    "scrolled": false
   },
   "outputs": [
    {
     "name": "stdout",
     "output_type": "stream",
     "text": [
      "bias: 8.542713567839195 %\n",
      "Final weight: \n",
      " [ 0.35736942 -0.05893556  0.17244912  0.32356133 -0.18687435  0.11082638\n",
      "  0.2760221   0.05042464  0.07075363  0.01243453  0.37690768 -0.04592733\n",
      "  0.18483589  0.24954562 -0.01188635  0.20089253  0.00973181  0.0193924\n",
      " -0.01200462  0.08327756  0.07898439  0.17066287  0.16336379  0.21448074\n",
      "  0.24494273  0.09435122  0.29986926 -0.05212365  0.02616707  0.19603295] \n",
      "\n"
     ]
    },
    {
     "data": {
      "image/png": "[encoded data removed]",
      "text/plain": [
       "<Figure size 432x288 with 1 Axes>"
      ]
     },
     "metadata": {
      "needs_background": "light"
     },
     "output_type": "display_data"
    }
   ],
   "source": [
    "# load raw data\n",
    "data_raw, data_raw_index=load_data('breast_cancer_data.csv')\n",
    "\n",
    "# refine raw data\n",
    "dt_rf_target, dt_refine, dt_index, dt_rf_row, dt_rf_column= refine_data(data_raw,data_raw_index)\n",
    "\n",
    "# split raw data into train & test\n",
    "dt_train, dt_train_target, dt_test, dt_test_target = split_train_test_data(dt_refine,dt_rf_target,0.7)\n",
    "\n",
    "# scale both train and test into [0,1]\n",
    "dt_train = scale_data(dt_train)\n",
    "dt_test = scale_data(dt_test)\n",
    "\n",
    "## train model\n",
    "# the initial weight is generated from [89]\n",
    "wt_arr = np.array([0.35461069, 0.028625, 0.17593328, 0.28893489, 0.00607685, 0.30147276,\n",
    " 0.35809594, 0.03850724, 0.26748097, 0.34306035, 0.37540016, 0.0882129,\n",
    " 0.19569421, 0.22945096, 0.15606727, 0.45092187, 0.17299598, 0.2468449,\n",
    " 0.19539798, 0.32623075, 0.03366006, 0.24920918, 0.13454076, 0.1561928,\n",
    " 0.41093688, 0.21628106, 0.42372828, 0.00117224, 0.13944796, 0.36425972,])\n",
    "\n",
    "# set up training parameters\n",
    "threshold = 0.7\n",
    "reg_lambda=0\n",
    "stp=2\n",
    "epoch=1000\n",
    "degree=1\n",
    "resolution = 3\n",
    "stop_limit = 1e-300\n",
    "\n",
    "stp_limit = 1/pow(10,resolution)\n",
    "ep=0\n",
    "epoch_limit=[]\n",
    "cost_lst=[]\n",
    "\n",
    "# train the model\n",
    "while ep<epoch:\n",
    "    # setup error default\n",
    "    er=0\n",
    "    epoch_limit.append(ep)\n",
    "    \n",
    "    #calc train data hypothesis value\n",
    "    h_x_lst = [ sigmoid_sgv(pow(np.dot(wt_arr, np.array(each_dt)),degree)) for each_dt in dt_train]\n",
    "    \n",
    "    # calculate error\n",
    "    #cost= calc_error_rate(h_x_lst, dt_train_target, threshold)\n",
    "    cost= cost_func(h_x_lst, dt_train_target, threshold)\n",
    "    cost_lst.append(cost)\n",
    "    \n",
    "    # adjust step size\n",
    "    if ep>0:\n",
    "        if abs(round(cost_lst[-2],4)-round(cost_lst[-1],4))< stp_limit:\n",
    "            stp = stp*stp_limit\n",
    "        if stp< stop_limit:\n",
    "            break\n",
    "    \n",
    "    #update weight values\n",
    "    h_x_arr = np.array(h_x_lst)\n",
    "    y_arr = np.array(dt_train_target)\n",
    "    x_arr = np.array(dt_train)\n",
    "    \n",
    "    if reg_lambda > len(x_arr):\n",
    "        reg_lambda = x_arr\n",
    "    \n",
    "    wt_arr = weight_update(wt_arr, h_x_arr, y_arr, x_arr, stp, reg_lambda, threshold)\n",
    "    \n",
    "    ep+=1\n",
    "    \n",
    "# clculate model training error rate\n",
    "error_rate = calc_error_rate(h_x_lst, dt_train_target, threshold)\n",
    "print('bias:', error_rate*100, '%')\n",
    "\n",
    "print('Final weight: \\n',wt_arr,'\\n') \n",
    "\n",
    "# plot the error rate\n",
    "plt.plot(epoch_limit, cost_lst)\n",
    "plt.axis([0, len(epoch_limit), 0, 1])\n",
    "plt.title('Cost Vs Epoch')\n",
    "plt.xlabel('epoch')\n",
    "plt.ylabel('Cost')\n",
    "plt.grid()\n",
    "plt.show()\n"
   ]
  },
  {
   "cell_type": "code",
   "execution_count": 28,
   "metadata": {},
   "outputs": [
    {
     "name": "stdout",
     "output_type": "stream",
     "text": [
      "Variance: 8.771929824561402 %\n",
      "\n"
     ]
    }
   ],
   "source": [
    "dt_test_arr = np.array([dt_test])\n",
    "\n",
    "for ar in dt_test_arr:\n",
    "    dp=np.dot(ar, wt_arr)\n",
    "\n",
    "h_x_lst = [sigmoid_sgv(val) for val in dp]\n",
    "error = calc_error_rate(h_x_lst, dt_test_target, threshold)\n",
    "\n",
    "print('Variance:',error*100,'%\\n')"
   ]
  },
  {
   "cell_type": "code",
   "execution_count": null,
   "metadata": {},
   "outputs": [],
   "source": []
  },
  {
   "cell_type": "code",
   "execution_count": null,
   "metadata": {},
   "outputs": [],
   "source": []
  },
  {
   "cell_type": "code",
   "execution_count": null,
   "metadata": {},
   "outputs": [],
   "source": []
  },
  {
   "cell_type": "code",
   "execution_count": null,
   "metadata": {},
   "outputs": [],
   "source": []
  },
  {
   "cell_type": "code",
   "execution_count": null,
   "metadata": {},
   "outputs": [],
   "source": []
  },
  {
   "cell_type": "code",
   "execution_count": null,
   "metadata": {},
   "outputs": [],
   "source": []
  },
  {
   "cell_type": "code",
   "execution_count": null,
   "metadata": {},
   "outputs": [],
   "source": []
  },
  {
   "cell_type": "code",
   "execution_count": null,
   "metadata": {},
   "outputs": [],
   "source": []
  },
  {
   "cell_type": "code",
   "execution_count": null,
   "metadata": {},
   "outputs": [],
   "source": []
  }
 ],
 "metadata": {
  "kernelspec": {
   "display_name": "Python 3",
   "language": "python",
   "name": "python3"
  },
  "language_info": {
   "codemirror_mode": {
    "name": "ipython",
    "version": 3
   },
   "file_extension": ".py",
   "mimetype": "text/x-python",
   "name": "python",
   "nbconvert_exporter": "python",
   "pygments_lexer": "ipython3",
   "version": "3.6.8"
  }
 },
 "nbformat": 4,
 "nbformat_minor": 2
}
