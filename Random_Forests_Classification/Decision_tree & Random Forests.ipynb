{
 "cells": [
  {
   "cell_type": "markdown",
   "metadata": {},
   "source": [
    "# Sklearn decision tree & random forests\n",
    "## 1. dataset link: https://www.kaggle.com/ronitf/heart-disease-uci\n",
    "## 2. sklearn is implemented to classify the dataset\n",
    "## 3. training & testing score vs tree depth \n",
    "## 4. training & testing score vs forests tree density\n",
    "## 5. feature importances are calculated by the random forests"
   ]
  },
  {
   "cell_type": "markdown",
   "metadata": {},
   "source": [
    "# 1. Decision_Tree & Random Forests from sklearn"
   ]
  },
  {
   "cell_type": "code",
   "execution_count": 2,
   "metadata": {},
   "outputs": [],
   "source": [
    "import pandas as pd\n",
    "import matplotlib.pyplot as plt\n",
    "import numpy as np\n",
    "import os\n",
    "import math\n",
    "import random"
   ]
  },
  {
   "cell_type": "code",
   "execution_count": 3,
   "metadata": {},
   "outputs": [],
   "source": [
    "## load & split data into train & test set\n",
    "def load_data(name):\n",
    "    path = os.getcwd()\n",
    "    data_path = os.path.join(path, name)\n",
    "    data_raw = pd.read_csv(data_path)\n",
    "    data_index = data_raw.keys()\n",
    "    return (data_raw, data_index)\n",
    "\n",
    "\n",
    "## plot histogram of each attribute\n",
    "def plot_hist(data_refine, data_refine_index):\n",
    "    data_zip = list(zip(*data_refine))\n",
    "\n",
    "    for index in range(len(data_zip)):\n",
    "        each_attr = data_zip[index]\n",
    "        low_b = math.floor(min(each_attr))\n",
    "        upp_b = math.ceil(max(each_attr))\n",
    "        plt.hist(each_attr, range=[low_b, upp_b])\n",
    "        plt.title(data_refine_index[index], loc='center')\n",
    "        plt.grid()\n",
    "        plt.show()\n",
    "\n",
    "\n",
    "## split data_test from data_train, split_ration=0.7, 70% data for training, 30% of data for testing\n",
    "def split_train_test_data(data_refine, data_refine_target, split_ratio, rand=True):\n",
    "    data_train = []\n",
    "    data_train_target = []\n",
    "    data_test=[]\n",
    "    data_test_target=[]\n",
    "    train_length = int(len(data_refine) * split_ratio)\n",
    "\n",
    "    if rand:\n",
    "        for index in range(train_length):\n",
    "            pos = random.randint(0, len(data_refine) - 1)\n",
    "            data_train.append(data_refine.pop(pos))\n",
    "            data_train_target.append(data_refine_target.pop(pos))\n",
    "\n",
    "        data_test = data_refine\n",
    "        data_test_target = data_refine_target\n",
    "\n",
    "    else:\n",
    "\n",
    "        data_refine_dic={}\n",
    "\n",
    "        for index in range(len(data_refine_target)):\n",
    "            if data_refine_target[index] not in data_refine_dic:\n",
    "                data_refine_dic[data_refine_target[index]]=[]\n",
    "                data_refine_dic[data_refine_target[index]].append(data_refine[index])\n",
    "            else:\n",
    "                data_refine_dic[data_refine_target[index]].append(data_refine[index])\n",
    "\n",
    "        for key in list(data_refine_dic.keys()):\n",
    "\n",
    "            train_length = int(len(data_refine_dic[key]) * split_ratio)\n",
    "\n",
    "            for index in range(train_length-1):\n",
    "                data_train.append(data_refine_dic[key].pop(0))\n",
    "                data_train_target.append(data_refine_target.pop(0))\n",
    "\n",
    "\n",
    "            for item in data_refine_dic[key]:\n",
    "                data_test.append(item)\n",
    "            data_test_target = data_refine_target\n",
    "\n",
    "    return (data_train, data_train_target, data_test, data_test_target)\n",
    "\n",
    "\n",
    "# shuffle the categarized data\n",
    "def shuffle_data_ca(data_ca, data_ca_target):\n",
    "    data_shf = []\n",
    "    data_shf_target = []\n",
    "    for i in range(len(data_ca)):\n",
    "        loc = random.randint(0, len(data_ca) - 1)\n",
    "        data_shf.append(data_ca.pop(loc))\n",
    "        data_shf_target.append(data_ca_target.pop(loc))\n",
    "\n",
    "    return (data_shf, data_shf_target)\n",
    "\n",
    "# scale all data into [0,1]\n",
    "def scale_data(dt_train):\n",
    "    col_max_min = [(np.min(col), np.max(col)) for col in list(zip(*dt_train)) ]\n",
    "    for row_index in range(len(dt_train)):\n",
    "        for col_index in range(len(dt_train[row_index])):\n",
    "            col_min = col_max_min[col_index][0]\n",
    "            col_max = col_max_min[col_index][1]\n",
    "            dt_train[row_index][col_index] = (dt_train[row_index][col_index]-col_min)/(col_max-col_min)\n",
    "    return dt_train\n",
    "\n",
    "\n",
    "# put all together\n",
    "def data_put_all(filename, split_ratio, rand=True):\n",
    "\n",
    "    # take all features into data_rf and targets into data_rf_target\n",
    "    data_raw, data_raw_index = load_data(filename)\n",
    "    data_raw = data_raw.drop(columns=['chol', 'fbs'])\n",
    "    data_index = data_raw.keys()\n",
    "\n",
    "    data_lst = data_raw.values.tolist()\n",
    "    data_rf = [dt[:-1] for dt in data_lst]\n",
    "    data_rf_target = list(list(zip(*data_lst))[-1])\n",
    "\n",
    "    data_rf = scale_data(data_rf)\n",
    "\n",
    "    # normalize feature input as x0, x1, x2, x3....1 for dot product\n",
    "    for dt in data_rf:\n",
    "        dt.append(1)\n",
    "\n",
    "    # normalize feature input target as 1,-1\n",
    "    for index in range(len(data_rf_target)):\n",
    "        if data_rf_target[index] == 0.0:\n",
    "            data_rf_target[index] = -1\n",
    "\n",
    "    # get data index\n",
    "    data_index = data_raw_index.values.tolist()\n",
    "    data_index = data_index[:-1]\n",
    "\n",
    "    dt_train, dt_train_target, dt_test, dt_test_target = \\\n",
    "        split_train_test_data(data_rf, data_rf_target, split_ratio, rand)\n",
    "\n",
    "    # shuffle all data\n",
    "    dt_train, dt_train_target = shuffle_data_ca(dt_train, dt_train_target)\n",
    "    return (dt_train, dt_train_target, dt_test, dt_test_target, data_index)"
   ]
  },
  {
   "cell_type": "markdown",
   "metadata": {},
   "source": [
    "# 2. Sklearn Decision Tree"
   ]
  },
  {
   "cell_type": "code",
   "execution_count": 10,
   "metadata": {},
   "outputs": [],
   "source": [
    "from sklearn.tree import DecisionTreeClassifier\n",
    "from sklearn.ensemble import RandomForestClassifier\n",
    "from sklearn import tree"
   ]
  },
  {
   "cell_type": "code",
   "execution_count": 22,
   "metadata": {},
   "outputs": [
    {
     "data": {
      "text/plain": [
       "0.9"
      ]
     },
     "execution_count": 22,
     "metadata": {},
     "output_type": "execute_result"
    }
   ],
   "source": [
    "# load data\n",
    "data_raw = load_data('heart_disease_data.csv')\n",
    "data_raw = data_raw[0]\n",
    "# data_raw = data_raw.drop(columns=['chol','fbs'])\n",
    "data_raw_index = list(data_raw.columns)[0:-1]\n",
    "data_rf = data_raw.iloc[:,0:-1].values.tolist()\n",
    "data_rf_target = data_raw.iloc[:,-1].values.tolist()\n",
    "data_train, data_train_target, data_test, data_test_target = split_train_test_data(data_rf, data_rf_target, 0.7, rand=True)\n",
    "clf = DecisionTreeClassifier(max_depth=2)\n",
    "clf = clf.fit(data_train[0:10], data_train_target[0:10])\n",
    "clf.score(data_train[0:10], data_train_target[0:10])"
   ]
  },
  {
   "cell_type": "code",
   "execution_count": 23,
   "metadata": {},
   "outputs": [
    {
     "data": {
      "text/html": [
       "<div>\n",
       "<style scoped>\n",
       "    .dataframe tbody tr th:only-of-type {\n",
       "        vertical-align: middle;\n",
       "    }\n",
       "\n",
       "    .dataframe tbody tr th {\n",
       "        vertical-align: top;\n",
       "    }\n",
       "\n",
       "    .dataframe thead th {\n",
       "        text-align: right;\n",
       "    }\n",
       "</style>\n",
       "<table border=\"1\" class=\"dataframe\">\n",
       "  <thead>\n",
       "    <tr style=\"text-align: right;\">\n",
       "      <th></th>\n",
       "      <th>age</th>\n",
       "      <th>sex</th>\n",
       "      <th>cp</th>\n",
       "      <th>trestbps</th>\n",
       "      <th>chol</th>\n",
       "      <th>fbs</th>\n",
       "      <th>restecg</th>\n",
       "      <th>thalach</th>\n",
       "      <th>exang</th>\n",
       "      <th>oldpeak</th>\n",
       "      <th>slope</th>\n",
       "      <th>ca</th>\n",
       "      <th>thal</th>\n",
       "      <th>target</th>\n",
       "    </tr>\n",
       "  </thead>\n",
       "  <tbody>\n",
       "    <tr>\n",
       "      <td>0</td>\n",
       "      <td>63</td>\n",
       "      <td>1</td>\n",
       "      <td>3</td>\n",
       "      <td>145</td>\n",
       "      <td>233</td>\n",
       "      <td>1</td>\n",
       "      <td>0</td>\n",
       "      <td>150</td>\n",
       "      <td>0</td>\n",
       "      <td>2.3</td>\n",
       "      <td>0</td>\n",
       "      <td>0</td>\n",
       "      <td>1</td>\n",
       "      <td>1</td>\n",
       "    </tr>\n",
       "    <tr>\n",
       "      <td>1</td>\n",
       "      <td>37</td>\n",
       "      <td>1</td>\n",
       "      <td>2</td>\n",
       "      <td>130</td>\n",
       "      <td>250</td>\n",
       "      <td>0</td>\n",
       "      <td>1</td>\n",
       "      <td>187</td>\n",
       "      <td>0</td>\n",
       "      <td>3.5</td>\n",
       "      <td>0</td>\n",
       "      <td>0</td>\n",
       "      <td>2</td>\n",
       "      <td>1</td>\n",
       "    </tr>\n",
       "    <tr>\n",
       "      <td>2</td>\n",
       "      <td>41</td>\n",
       "      <td>0</td>\n",
       "      <td>1</td>\n",
       "      <td>130</td>\n",
       "      <td>204</td>\n",
       "      <td>0</td>\n",
       "      <td>0</td>\n",
       "      <td>172</td>\n",
       "      <td>0</td>\n",
       "      <td>1.4</td>\n",
       "      <td>2</td>\n",
       "      <td>0</td>\n",
       "      <td>2</td>\n",
       "      <td>1</td>\n",
       "    </tr>\n",
       "    <tr>\n",
       "      <td>3</td>\n",
       "      <td>56</td>\n",
       "      <td>1</td>\n",
       "      <td>1</td>\n",
       "      <td>120</td>\n",
       "      <td>236</td>\n",
       "      <td>0</td>\n",
       "      <td>1</td>\n",
       "      <td>178</td>\n",
       "      <td>0</td>\n",
       "      <td>0.8</td>\n",
       "      <td>2</td>\n",
       "      <td>0</td>\n",
       "      <td>2</td>\n",
       "      <td>1</td>\n",
       "    </tr>\n",
       "    <tr>\n",
       "      <td>4</td>\n",
       "      <td>57</td>\n",
       "      <td>0</td>\n",
       "      <td>0</td>\n",
       "      <td>120</td>\n",
       "      <td>354</td>\n",
       "      <td>0</td>\n",
       "      <td>1</td>\n",
       "      <td>163</td>\n",
       "      <td>1</td>\n",
       "      <td>0.6</td>\n",
       "      <td>2</td>\n",
       "      <td>0</td>\n",
       "      <td>2</td>\n",
       "      <td>1</td>\n",
       "    </tr>\n",
       "    <tr>\n",
       "      <td>...</td>\n",
       "      <td>...</td>\n",
       "      <td>...</td>\n",
       "      <td>...</td>\n",
       "      <td>...</td>\n",
       "      <td>...</td>\n",
       "      <td>...</td>\n",
       "      <td>...</td>\n",
       "      <td>...</td>\n",
       "      <td>...</td>\n",
       "      <td>...</td>\n",
       "      <td>...</td>\n",
       "      <td>...</td>\n",
       "      <td>...</td>\n",
       "      <td>...</td>\n",
       "    </tr>\n",
       "    <tr>\n",
       "      <td>298</td>\n",
       "      <td>57</td>\n",
       "      <td>0</td>\n",
       "      <td>0</td>\n",
       "      <td>140</td>\n",
       "      <td>241</td>\n",
       "      <td>0</td>\n",
       "      <td>1</td>\n",
       "      <td>123</td>\n",
       "      <td>1</td>\n",
       "      <td>0.2</td>\n",
       "      <td>1</td>\n",
       "      <td>0</td>\n",
       "      <td>3</td>\n",
       "      <td>0</td>\n",
       "    </tr>\n",
       "    <tr>\n",
       "      <td>299</td>\n",
       "      <td>45</td>\n",
       "      <td>1</td>\n",
       "      <td>3</td>\n",
       "      <td>110</td>\n",
       "      <td>264</td>\n",
       "      <td>0</td>\n",
       "      <td>1</td>\n",
       "      <td>132</td>\n",
       "      <td>0</td>\n",
       "      <td>1.2</td>\n",
       "      <td>1</td>\n",
       "      <td>0</td>\n",
       "      <td>3</td>\n",
       "      <td>0</td>\n",
       "    </tr>\n",
       "    <tr>\n",
       "      <td>300</td>\n",
       "      <td>68</td>\n",
       "      <td>1</td>\n",
       "      <td>0</td>\n",
       "      <td>144</td>\n",
       "      <td>193</td>\n",
       "      <td>1</td>\n",
       "      <td>1</td>\n",
       "      <td>141</td>\n",
       "      <td>0</td>\n",
       "      <td>3.4</td>\n",
       "      <td>1</td>\n",
       "      <td>2</td>\n",
       "      <td>3</td>\n",
       "      <td>0</td>\n",
       "    </tr>\n",
       "    <tr>\n",
       "      <td>301</td>\n",
       "      <td>57</td>\n",
       "      <td>1</td>\n",
       "      <td>0</td>\n",
       "      <td>130</td>\n",
       "      <td>131</td>\n",
       "      <td>0</td>\n",
       "      <td>1</td>\n",
       "      <td>115</td>\n",
       "      <td>1</td>\n",
       "      <td>1.2</td>\n",
       "      <td>1</td>\n",
       "      <td>1</td>\n",
       "      <td>3</td>\n",
       "      <td>0</td>\n",
       "    </tr>\n",
       "    <tr>\n",
       "      <td>302</td>\n",
       "      <td>57</td>\n",
       "      <td>0</td>\n",
       "      <td>1</td>\n",
       "      <td>130</td>\n",
       "      <td>236</td>\n",
       "      <td>0</td>\n",
       "      <td>0</td>\n",
       "      <td>174</td>\n",
       "      <td>0</td>\n",
       "      <td>0.0</td>\n",
       "      <td>1</td>\n",
       "      <td>1</td>\n",
       "      <td>2</td>\n",
       "      <td>0</td>\n",
       "    </tr>\n",
       "  </tbody>\n",
       "</table>\n",
       "<p>303 rows × 14 columns</p>\n",
       "</div>"
      ],
      "text/plain": [
       "     age  sex  cp  trestbps  chol  fbs  restecg  thalach  exang  oldpeak  \\\n",
       "0     63    1   3       145   233    1        0      150      0      2.3   \n",
       "1     37    1   2       130   250    0        1      187      0      3.5   \n",
       "2     41    0   1       130   204    0        0      172      0      1.4   \n",
       "3     56    1   1       120   236    0        1      178      0      0.8   \n",
       "4     57    0   0       120   354    0        1      163      1      0.6   \n",
       "..   ...  ...  ..       ...   ...  ...      ...      ...    ...      ...   \n",
       "298   57    0   0       140   241    0        1      123      1      0.2   \n",
       "299   45    1   3       110   264    0        1      132      0      1.2   \n",
       "300   68    1   0       144   193    1        1      141      0      3.4   \n",
       "301   57    1   0       130   131    0        1      115      1      1.2   \n",
       "302   57    0   1       130   236    0        0      174      0      0.0   \n",
       "\n",
       "     slope  ca  thal  target  \n",
       "0        0   0     1       1  \n",
       "1        0   0     2       1  \n",
       "2        2   0     2       1  \n",
       "3        2   0     2       1  \n",
       "4        2   0     2       1  \n",
       "..     ...  ..   ...     ...  \n",
       "298      1   0     3       0  \n",
       "299      1   0     3       0  \n",
       "300      1   2     3       0  \n",
       "301      1   1     3       0  \n",
       "302      1   1     2       0  \n",
       "\n",
       "[303 rows x 14 columns]"
      ]
     },
     "execution_count": 23,
     "metadata": {},
     "output_type": "execute_result"
    }
   ],
   "source": [
    "data_raw = load_data('heart_disease_data.csv')\n",
    "data_raw = data_raw[0]\n",
    "data_raw"
   ]
  },
  {
   "cell_type": "code",
   "execution_count": 24,
   "metadata": {
    "scrolled": false
   },
   "outputs": [
    {
     "data": {
      "text/plain": [
       "[Text(200.88000000000002, 181.2, 'X[9] <= 2.95\\ngini = 0.42\\nsamples = 10\\nvalue = [3, 7]'),\n",
       " Text(133.92000000000002, 108.72, 'X[3] <= 110.0\\ngini = 0.219\\nsamples = 8\\nvalue = [1, 7]'),\n",
       " Text(66.96000000000001, 36.23999999999998, 'gini = 0.5\\nsamples = 2\\nvalue = [1, 1]'),\n",
       " Text(200.88000000000002, 36.23999999999998, 'gini = 0.0\\nsamples = 6\\nvalue = [0, 6]'),\n",
       " Text(267.84000000000003, 108.72, 'gini = 0.0\\nsamples = 2\\nvalue = [2, 0]')]"
      ]
     },
     "execution_count": 24,
     "metadata": {},
     "output_type": "execute_result"
    },
    {
     "data": {
      "image/png": "[encoded data removed]",
      "text/plain": [
       "<Figure size 432x288 with 1 Axes>"
      ]
     },
     "metadata": {
      "needs_background": "light"
     },
     "output_type": "display_data"
    }
   ],
   "source": [
    "tree.plot_tree(clf)"
   ]
  },
  {
   "cell_type": "code",
   "execution_count": 25,
   "metadata": {},
   "outputs": [
    {
     "data": {
      "text/plain": [
       "[41.0, 53.0, 46.0, 47.0, 66.0, 55.0, 59.0, 38.0, 45.0, 48.0]"
      ]
     },
     "execution_count": 25,
     "metadata": {},
     "output_type": "execute_result"
    }
   ],
   "source": [
    "data_train[0:10]\n",
    "\n",
    "list(map(lambda row_val: row_val[0], data_train[0:10]))"
   ]
  },
  {
   "cell_type": "code",
   "execution_count": 20,
   "metadata": {},
   "outputs": [
    {
     "data": {
      "text/plain": [
       "[0, 0, 1, 1, 1, 1, 1, 1, 0, 1]"
      ]
     },
     "execution_count": 20,
     "metadata": {},
     "output_type": "execute_result"
    }
   ],
   "source": [
    "data_train_target[0:10]"
   ]
  },
  {
   "cell_type": "markdown",
   "metadata": {},
   "source": [
    "# 3. Decision tree depth vs score"
   ]
  },
  {
   "cell_type": "code",
   "execution_count": 37,
   "metadata": {
    "scrolled": false
   },
   "outputs": [
    {
     "data": {
      "image/png": "[encoded data removed]",
      "text/plain": [
       "<Figure size 432x288 with 1 Axes>"
      ]
     },
     "metadata": {
      "needs_background": "light"
     },
     "output_type": "display_data"
    }
   ],
   "source": [
    "# decision tree\n",
    "depth_limit = 11\n",
    "recorder =[]\n",
    "tree_depth = []\n",
    "for i in list(range(1,depth_limit+1)):\n",
    "    clf = DecisionTreeClassifier(max_depth=i)\n",
    "    clf = clf.fit(data_train, data_train_target)\n",
    "    tree_depth.append(i)\n",
    "    recorder.append((clf.score(data_train, data_train_target), clf.score(data_test, data_test_target)))\n",
    "    \n",
    "plt.plot(tree_depth, list(zip(*recorder))[0], label='train score')\n",
    "plt.plot(tree_depth,list(zip(*recorder))[1], label='test score')\n",
    "plt.xlabel('tree depth')\n",
    "plt.ylabel('score')\n",
    "plt.title('decision tree depth vs score')\n",
    "plt.legend()\n",
    "plt.grid()\n",
    "plt.show()"
   ]
  },
  {
   "cell_type": "markdown",
   "metadata": {},
   "source": [
    "# 3. Random forests tree density vs bias & variance"
   ]
  },
  {
   "cell_type": "code",
   "execution_count": 38,
   "metadata": {},
   "outputs": [
    {
     "data": {
      "image/png": "[encoded data removed]",
      "text/plain": [
       "<Figure size 432x288 with 1 Axes>"
      ]
     },
     "metadata": {
      "needs_background": "light"
     },
     "output_type": "display_data"
    }
   ],
   "source": [
    "tree_limit = 200\n",
    "tree_num=[]\n",
    "recorder=[]\n",
    "for i in list(range(1,tree_limit)):\n",
    "    clf = RandomForestClassifier(n_estimators=i, max_depth=2, random_state=0, max_features='sqrt')\n",
    "    clf.fit(data_train,data_train_target)\n",
    "    tree_num.append(i)\n",
    "    recorder.append((clf.score(data_train, data_train_target), clf.score(data_test, data_test_target)))\n",
    "    \n",
    "plt.plot(tree_num, list(zip(*recorder))[0], label='train score')\n",
    "plt.plot(tree_num,list(zip(*recorder))[1], label='test score')\n",
    "plt.xlabel('tree number')\n",
    "plt.ylabel('score')\n",
    "plt.title('random forest train score vs test score')\n",
    "plt.legend()\n",
    "plt.grid()\n",
    "plt.show()"
   ]
  },
  {
   "cell_type": "code",
   "execution_count": 39,
   "metadata": {},
   "outputs": [
    {
     "name": "stdout",
     "output_type": "stream",
     "text": [
      "feature importances: \n",
      "\n",
      "age : 3.7816122443217846 %\n",
      "sex : 1.7529932381116435 %\n",
      "cp : 24.891859361781144 %\n",
      "trestbps : 0.9595770882455821 %\n",
      "chol : 1.5467923734924438 %\n",
      "fbs : 0.0 %\n",
      "restecg : 0.2526773550542454 %\n",
      "thalach : 11.144365978740115 %\n",
      "exang : 12.976564196343684 %\n",
      "oldpeak : 8.671257560424591 %\n",
      "slope : 4.748905888052488 %\n",
      "ca : 19.522218469210316 %\n",
      "thal : 9.751176246221952 %\n"
     ]
    }
   ],
   "source": [
    "print('feature importances: \\n')\n",
    "for name, score in zip(data_raw_index ,clf.feature_importances_):\n",
    "    print(name,':',score*100, '%')"
   ]
  },
  {
   "cell_type": "code",
   "execution_count": null,
   "metadata": {},
   "outputs": [],
   "source": []
  },
  {
   "cell_type": "code",
   "execution_count": null,
   "metadata": {},
   "outputs": [],
   "source": [
    "def _get_class(split_info_lst,pos):\n",
    "    \n",
    "        \n",
    "        "
   ]
  },
  {
   "cell_type": "code",
   "execution_count": 4,
   "metadata": {},
   "outputs": [
    {
     "data": {
      "text/plain": [
       "5"
      ]
     },
     "execution_count": 4,
     "metadata": {},
     "output_type": "execute_result"
    }
   ],
   "source": [
    "a=[1,3,4,5,0,-4]\n",
    "sorted(range(len(a)), key=lambda x: a[x], reverse=False)[0]"
   ]
  },
  {
   "cell_type": "code",
   "execution_count": null,
   "metadata": {},
   "outputs": [],
   "source": []
  },
  {
   "cell_type": "code",
   "execution_count": null,
   "metadata": {},
   "outputs": [],
   "source": []
  },
  {
   "cell_type": "code",
   "execution_count": null,
   "metadata": {},
   "outputs": [],
   "source": []
  },
  {
   "cell_type": "code",
   "execution_count": null,
   "metadata": {},
   "outputs": [],
   "source": []
  }
 ],
 "metadata": {
  "kernelspec": {
   "display_name": "Python 3",
   "language": "python",
   "name": "python3"
  },
  "language_info": {
   "codemirror_mode": {
    "name": "ipython",
    "version": 3
   },
   "file_extension": ".py",
   "mimetype": "text/x-python",
   "name": "python",
   "nbconvert_exporter": "python",
   "pygments_lexer": "ipython3",
   "version": "3.6.8"
  }
 },
 "nbformat": 4,
 "nbformat_minor": 2
}
