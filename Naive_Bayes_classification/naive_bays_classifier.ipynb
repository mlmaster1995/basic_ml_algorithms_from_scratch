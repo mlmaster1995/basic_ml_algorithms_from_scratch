{
 "cells": [
  {
   "cell_type": "markdown",
   "metadata": {},
   "source": [
    "# 1. Naive Bays Classification (Single Classifier)\n",
    "## 1.1. Navie Bays classifier is a generative algorithm for classification and regression, so it has no training process and this property is smiliar to KNN;\n",
    "## 1.2. Gaussian Naive Bayes is employed in this code, but lognormal, gamma, poisson distributions can be combined with Navie Bayes as well. The type of distribution fully depends on the problem to be solved. \n",
    "## 1.3. Data source: https://www.kaggle.com/uciml/pima-indians-diabetes-database;\n",
    "## 1.4. Dataset size: 768 * 9, 768 rows of data, 9 features;\n",
    "## 1.5. Data is splited with the certain ratio into train & test sets;\n",
    "## 1.6. For each attribute, if different distribution is selected, the accuracy will be improved; "
   ]
  },
  {
   "cell_type": "markdown",
   "metadata": {},
   "source": [
    "# 2. Import packages"
   ]
  },
  {
   "cell_type": "code",
   "execution_count": 9,
   "metadata": {},
   "outputs": [],
   "source": [
    "## dependencies & libraries\n",
    "import numpy as np\n",
    "import pandas as pd\n",
    "import statistics as st\n",
    "import matplotlib.pyplot as plt\n",
    "import random\n",
    "import math\n",
    "import os"
   ]
  },
  {
   "cell_type": "markdown",
   "metadata": {},
   "source": [
    "# 3. Data pre-process functions"
   ]
  },
  {
   "cell_type": "code",
   "execution_count": 10,
   "metadata": {},
   "outputs": [],
   "source": [
    "## loading data from csv file\n",
    "def load_data(file_name):\n",
    "    route = os.getcwd()\n",
    "    data_route = os.path.join(route, file_name)\n",
    "    data=pd.read_csv(data_route)\n",
    "    data_list = data.values.tolist()\n",
    "    return data_list\n",
    "\n",
    "## split data into model and test with certain ratio\n",
    "def split_data_model_test(data, split_ratio):\n",
    "    data_temp = data\n",
    "    data_model_length = int(len(data_temp)*split_ratio)\n",
    "    data_model=[]\n",
    "    for single_data in range(data_model_length):\n",
    "        index = random.randrange(len(data_temp))\n",
    "        data_model.append(data_temp.pop(index))  \n",
    "    data_test = data_temp\n",
    "    return (data_model, data_test)\n",
    "\n",
    "## split the model data into different classes within one map (dictionary)\n",
    "def seperate_data(data_model):\n",
    "    seperate={}\n",
    "    for each_row in data_model:\n",
    "        if each_row[-1] not in seperate:\n",
    "            seperate[each_row[-1]]=[]\n",
    "            seperate[each_row[-1]].append(each_row)\n",
    "        else:\n",
    "            seperate[each_row[-1]].append(each_row)\n",
    "    return seperate\n",
    "\n"
   ]
  },
  {
   "cell_type": "markdown",
   "metadata": {},
   "source": [
    "# 4. Bays theorem functions"
   ]
  },
  {
   "cell_type": "code",
   "execution_count": 52,
   "metadata": {},
   "outputs": [],
   "source": [
    "## gaussian function\n",
    "def Gaussian_calc(x, mean, stdev):\n",
    "    exponent = math.exp(-(math.pow(x-mean,2)/(2*math.pow(stdev,2))))\n",
    "    return (1 / (math.sqrt(2*math.pi) * stdev)) * exponent\n",
    "\n",
    "## calculate mean & std for each evidence in each class in the data_model\n",
    "def class_evidence_stats(seperate_data):\n",
    "    evidence_stats_class={}\n",
    "    for each_class in seperate_data.keys():\n",
    "        evidence_stats_class[each_class]=[ (st.mean(attr),st.stdev(attr)) for attr in zip(*seperate_data[each_class])]\n",
    "    return evidence_stats_class\n",
    "\n",
    "## calc probability of likelihood of evidence \n",
    "## P(X|Y)=P(x1|Y)*P(x2|Y)*P(x3|Y)*P(x1|Y)... based on the class for single-data\n",
    "def calc_prob_likelihood_evidence(single_data_set, attr_mean_devi):\n",
    "    prob_likelihood_evidence={}\n",
    "    \n",
    "    for single_class in attr_mean_devi:\n",
    "            prob=1\n",
    "            \n",
    "            for index in range(len(attr_mean_devi[single_class])-1):\n",
    "                mean = attr_mean_devi[single_class][index][0]\n",
    "                devi = attr_mean_devi[single_class][index][1]\n",
    "                prob*=Gaussian_calc(single_data_set[index], mean, devi)\n",
    "            \n",
    "            prob_likelihood_evidence[single_class]=prob\n",
    "    return prob_likelihood_evidence\n",
    "\n",
    "## calc prior P(Y)\n",
    "def calc_prior(seperate, data_all):\n",
    "    prior={}\n",
    "    for key in seperate.keys():\n",
    "        prior[key] = len(seperate[key])/len(data_all)\n",
    "    \n",
    "    return prior\n",
    "\n",
    "## calc probability of evidence \n",
    "## P(X)=P(x1)*P(x2)*P(x3)*....\n",
    "def calc_prob_evidence(single_data_set, data_source):\n",
    "    data_source_mean_devi = [(st.mean(evidence), st.stdev(evidence)) for evidence in zip(*data_source)]\n",
    "    \n",
    "    prob_evidence=1\n",
    "    for index in range(len(data_source_mean_devi)-1):\n",
    "        mean= data_source_mean_devi[index][0]\n",
    "        devi= data_source_mean_devi[index][1]\n",
    "        prob_evidence*= Gaussian_calc(single_data_set[index], mean, devi)\n",
    "    \n",
    "    return prob_evidence"
   ]
  },
  {
   "cell_type": "code",
   "execution_count": 73,
   "metadata": {},
   "outputs": [
    {
     "data": {
      "text/plain": [
       "0.5366049722650822"
      ]
     },
     "execution_count": 73,
     "metadata": {},
     "output_type": "execute_result"
    }
   ],
   "source": [
    "## gaussian function\n",
    "def Gaussian_calc(x, mean, stdev):\n",
    "    exponent = math.exp(-(math.pow(x-mean,2)/(2*math.pow(stdev,2))))\n",
    "    return exponent\n",
    "    \n",
    "\n",
    "res = Gaussian_calc(0.7, 0.488, 0.19) \n",
    "res"
   ]
  },
  {
   "cell_type": "code",
   "execution_count": 74,
   "metadata": {},
   "outputs": [
    {
     "data": {
      "image/png": "[encoded data removed]",
      "text/plain": [
       "<Figure size 432x288 with 1 Axes>"
      ]
     },
     "metadata": {
      "needs_background": "light"
     },
     "output_type": "display_data"
    }
   ],
   "source": [
    "x= np.linspace(-1,3,100).tolist()\n",
    "y = [ Gaussian_calc(val, 0.488, 0.19) for val in x]\n",
    "plt.plot(x,y)\n",
    "plt.grid()\n",
    "plt.show()"
   ]
  },
  {
   "cell_type": "code",
   "execution_count": 72,
   "metadata": {},
   "outputs": [
    {
     "name": "stdout",
     "output_type": "stream",
     "text": [
      "1.126707427948313\n",
      "0.24197072451914337\n",
      "0.24197072451914337\n"
     ]
    }
   ],
   "source": [
    "# Calculate the Gaussian probability distribution function for x\n",
    "def calculate_probability(x, mean, stdev):\n",
    "\texponent = math.exp(-((x-mean)**2 / (2 * stdev**2 )))\n",
    "\treturn (1 / (math.sqrt(2 * math.pi) * stdev)) * exponent\n",
    " \n",
    "# Test Gaussian PDF\n",
    "print(calculate_probability(0.7, 0.488, 0.19))\n",
    "print(calculate_probability(2.0, 1.0, 1.0))\n",
    "print(calculate_probability(0.0, 1.0, 1.0))"
   ]
  },
  {
   "cell_type": "markdown",
   "metadata": {},
   "source": [
    "# 5. Implement & Test Naive Bays Classifier"
   ]
  },
  {
   "cell_type": "code",
   "execution_count": 75,
   "metadata": {},
   "outputs": [],
   "source": [
    "## implement the algorithm\n",
    "file_name='diabetes_data.csv'\n",
    "data_source = load_data(file_name)\n",
    "data_process = load_data(file_name)\n",
    "split_ratio=0.8\n",
    "data_model, data_test= split_data_model_test(data_process,split_ratio)"
   ]
  },
  {
   "cell_type": "code",
   "execution_count": 76,
   "metadata": {
    "scrolled": true
   },
   "outputs": [
    {
     "data": {
      "image/png": "[encoded data removed]",
      "text/plain": [
       "<Figure size 432x288 with 1 Axes>"
      ]
     },
     "metadata": {
      "needs_background": "light"
     },
     "output_type": "display_data"
    },
    {
     "data": {
      "image/png": "[encoded data removed]",
      "text/plain": [
       "<Figure size 432x288 with 1 Axes>"
      ]
     },
     "metadata": {
      "needs_background": "light"
     },
     "output_type": "display_data"
    },
    {
     "data": {
      "image/png": "[encoded data removed]",
      "text/plain": [
       "<Figure size 432x288 with 1 Axes>"
      ]
     },
     "metadata": {
      "needs_background": "light"
     },
     "output_type": "display_data"
    },
    {
     "data": {
      "image/png": "[encoded data removed]",
      "text/plain": [
       "<Figure size 432x288 with 1 Axes>"
      ]
     },
     "metadata": {
      "needs_background": "light"
     },
     "output_type": "display_data"
    },
    {
     "data": {
      "image/png": "[encoded data removed]",
      "text/plain": [
       "<Figure size 432x288 with 1 Axes>"
      ]
     },
     "metadata": {
      "needs_background": "light"
     },
     "output_type": "display_data"
    },
    {
     "data": {
      "image/png": "[encoded data removed]",
      "text/plain": [
       "<Figure size 432x288 with 1 Axes>"
      ]
     },
     "metadata": {
      "needs_background": "light"
     },
     "output_type": "display_data"
    },
    {
     "data": {
      "image/png": "[encoded data removed]",
      "text/plain": [
       "<Figure size 432x288 with 1 Axes>"
      ]
     },
     "metadata": {
      "needs_background": "light"
     },
     "output_type": "display_data"
    },
    {
     "data": {
      "image/png": "[encoded data removed]",
      "text/plain": [
       "<Figure size 432x288 with 1 Axes>"
      ]
     },
     "metadata": {
      "needs_background": "light"
     },
     "output_type": "display_data"
    },
    {
     "data": {
      "image/png": "[encoded data removed]",
      "text/plain": [
       "<Figure size 432x288 with 1 Axes>"
      ]
     },
     "metadata": {
      "needs_background": "light"
     },
     "output_type": "display_data"
    }
   ],
   "source": [
    "## plot histogram of each attribute\n",
    "attr_lst = list(zip(*data_source))\n",
    "attr_index=['Pregnancies','Glucose','BloodPressure','SkinThickness','Insulin','BMI',\n",
    "            'DiabetesPedigreeFunction','Age','Outcome']\n",
    "for index in range(len(attr_index)):\n",
    "    #bin_range = (min(attr_lst[index]),max(attr_lst[index]))\n",
    "    plt.hist(attr_lst[index],bins=10,align='mid')\n",
    "    plt.title(attr_index[index])\n",
    "    plt.grid()\n",
    "    plt.show()"
   ]
  },
  {
   "cell_type": "code",
   "execution_count": 77,
   "metadata": {
    "scrolled": true
   },
   "outputs": [],
   "source": [
    "## Test the algorithm \n",
    "# define error counter\n",
    "error=0\n",
    "error_list=[]\n",
    "    \n",
    "# put data_model into a dictionary\n",
    "seperate = seperate_data(data_model)\n",
    "\n",
    "# calc mean & deviation of normal distribution of each attribute (8 attribute cols + 1 target col) of data_model\n",
    "attr_mean_devi = class_evidence_stats(seperate)\n",
    "\n",
    "## Naive Bays Classifier\n",
    "for index in range(len(data_test)):\n",
    "\n",
    "    # single data\n",
    "    data_single = data_test[index]    \n",
    "\n",
    "    # calc probability of likelihood of each evidence of single data intput\n",
    "    # P(X|Y)\n",
    "    prob_likelihood_evidence = calc_prob_likelihood_evidence(data_single, attr_mean_devi)\n",
    "\n",
    "    # calc prior P(Y)\n",
    "    prior = calc_prior(seperate, data_source)\n",
    "\n",
    "    # calc probability of each evidence\n",
    "    # P(X) is same for both class, so it can be ignored\n",
    "    #prob_evidence = calc_prob_evidence(data_single, data_source)\n",
    "\n",
    "    # calc probability of each class based on the data_single input\n",
    "    class_single_res={}\n",
    "    for class_index in prob_likelihood_evidence:\n",
    "                class_single_res[prob_likelihood_evidence[class_index]*prior[class_index]]=class_index\n",
    "\n",
    "    # sort the dictionary with keys\n",
    "    sort_ls = sorted(class_single_res.keys(), reverse=True)\n",
    "    \n",
    "    # append classification result into the data_test dataset\n",
    "    # it's easy to see the result\n",
    "    res = class_single_res[sort_ls[0]]  \n",
    "    data_test[index].append(res)\n",
    "    \n",
    "    # count the error \n",
    "    if data_test[index][-2] != data_test[index][-1]:\n",
    "        error+=1\n",
    "        error_list.append(data_test[index])\n",
    "\n",
    "error_rate = error/len(data_test)\n",
    "class_res = data_test"
   ]
  },
  {
   "cell_type": "code",
   "execution_count": 78,
   "metadata": {},
   "outputs": [
    {
     "name": "stdout",
     "output_type": "stream",
     "text": [
      "total data size: 768 \n",
      "data test size: 154 \n",
      "data model size: 614\n",
      "error rate:  77.92207792207793\n"
     ]
    }
   ],
   "source": [
    "print('total data size:',len(data_source),'\\ndata test size:', len(data_test),'\\ndata model size:', len(data_model))\n",
    "print(\"error rate: \", (1-error_rate)*100);"
   ]
  },
  {
   "cell_type": "code",
   "execution_count": 79,
   "metadata": {},
   "outputs": [],
   "source": [
    "\n",
    "\n"
   ]
  },
  {
   "cell_type": "code",
   "execution_count": null,
   "metadata": {},
   "outputs": [],
   "source": []
  },
  {
   "cell_type": "code",
   "execution_count": null,
   "metadata": {},
   "outputs": [],
   "source": []
  },
  {
   "cell_type": "code",
   "execution_count": null,
   "metadata": {},
   "outputs": [],
   "source": []
  },
  {
   "cell_type": "code",
   "execution_count": null,
   "metadata": {},
   "outputs": [],
   "source": []
  },
  {
   "cell_type": "code",
   "execution_count": null,
   "metadata": {},
   "outputs": [],
   "source": []
  },
  {
   "cell_type": "code",
   "execution_count": null,
   "metadata": {},
   "outputs": [],
   "source": []
  },
  {
   "cell_type": "code",
   "execution_count": null,
   "metadata": {},
   "outputs": [],
   "source": []
  },
  {
   "cell_type": "code",
   "execution_count": null,
   "metadata": {},
   "outputs": [],
   "source": []
  }
 ],
 "metadata": {
  "kernelspec": {
   "display_name": "Python 3",
   "language": "python",
   "name": "python3"
  },
  "language_info": {
   "codemirror_mode": {
    "name": "ipython",
    "version": 3
   },
   "file_extension": ".py",
   "mimetype": "text/x-python",
   "name": "python",
   "nbconvert_exporter": "python",
   "pygments_lexer": "ipython3",
   "version": "3.6.8"
  }
 },
 "nbformat": 4,
 "nbformat_minor": 2
}
